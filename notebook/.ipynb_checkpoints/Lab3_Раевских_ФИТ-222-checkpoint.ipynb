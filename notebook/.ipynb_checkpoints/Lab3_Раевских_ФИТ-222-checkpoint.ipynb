{
 "cells": [
  {
   "cell_type": "code",
   "execution_count": 1,
   "id": "732de7cc-57ce-44d3-9717-d3139610667e",
   "metadata": {},
   "outputs": [],
   "source": [
    "import pandas as pd\n",
    "import matplotlib.pyplot as plt\n",
    "import numpy as np\n",
    "import seaborn as sns\n",
    "import warnings\n",
    "import os"
   ]
  },
  {
   "cell_type": "code",
   "execution_count": 2,
   "id": "e8b4f5cf-42ab-4cc3-8915-29656047809a",
   "metadata": {},
   "outputs": [],
   "source": [
    "os.chdir('../data')\n",
    "#Вариант 1\n",
    "df = pd.read_csv('moldova_cars_task.csv')"
   ]
  },
  {
   "cell_type": "markdown",
   "id": "0658351b-a262-4cd5-987e-1a1081ebc68e",
   "metadata": {},
   "source": [
    "# Проверка данных и их предобработка"
   ]
  },
  {
   "cell_type": "code",
   "execution_count": 3,
   "id": "18c8a168-d5fa-46c3-ae80-a47ce92e440b",
   "metadata": {},
   "outputs": [
    {
     "name": "stdout",
     "output_type": "stream",
     "text": [
      "<class 'pandas.core.frame.DataFrame'>\n",
      "RangeIndex: 41007 entries, 0 to 41006\n",
      "Data columns (total 9 columns):\n",
      " #   Column                Non-Null Count  Dtype  \n",
      "---  ------                --------------  -----  \n",
      " 0   Make                  41007 non-null  object \n",
      " 1   Model                 40671 non-null  object \n",
      " 2   Year                  40771 non-null  float64\n",
      " 3   Style                 40938 non-null  object \n",
      " 4   Distance              40889 non-null  float64\n",
      " 5   Engine_capacity(cm3)  41007 non-null  float64\n",
      " 6   Fuel_type             41007 non-null  object \n",
      " 7   Transmission          40779 non-null  object \n",
      " 8   Price(euro)           41007 non-null  float64\n",
      "dtypes: float64(4), object(5)\n",
      "memory usage: 2.8+ MB\n"
     ]
    }
   ],
   "source": [
    "df.info()"
   ]
  },
  {
   "cell_type": "code",
   "execution_count": 4,
   "id": "e7f7cb09-adb4-4aea-a380-dea8a10486d5",
   "metadata": {},
   "outputs": [
    {
     "data": {
      "text/html": [
       "<div>\n",
       "<style scoped>\n",
       "    .dataframe tbody tr th:only-of-type {\n",
       "        vertical-align: middle;\n",
       "    }\n",
       "\n",
       "    .dataframe tbody tr th {\n",
       "        vertical-align: top;\n",
       "    }\n",
       "\n",
       "    .dataframe thead th {\n",
       "        text-align: right;\n",
       "    }\n",
       "</style>\n",
       "<table border=\"1\" class=\"dataframe\">\n",
       "  <thead>\n",
       "    <tr style=\"text-align: right;\">\n",
       "      <th></th>\n",
       "      <th>Make</th>\n",
       "      <th>Model</th>\n",
       "      <th>Year</th>\n",
       "      <th>Style</th>\n",
       "      <th>Distance</th>\n",
       "      <th>Engine_capacity(cm3)</th>\n",
       "      <th>Fuel_type</th>\n",
       "      <th>Transmission</th>\n",
       "      <th>Price(euro)</th>\n",
       "    </tr>\n",
       "  </thead>\n",
       "  <tbody>\n",
       "    <tr>\n",
       "      <th>0</th>\n",
       "      <td>Toyota</td>\n",
       "      <td>Prius</td>\n",
       "      <td>2011.0</td>\n",
       "      <td>Hatchback</td>\n",
       "      <td>195000.0</td>\n",
       "      <td>1800.0</td>\n",
       "      <td>Hybrid</td>\n",
       "      <td>Automatic</td>\n",
       "      <td>7750.0</td>\n",
       "    </tr>\n",
       "    <tr>\n",
       "      <th>1</th>\n",
       "      <td>Renault</td>\n",
       "      <td>Grand Scenic</td>\n",
       "      <td>2014.0</td>\n",
       "      <td>Universal</td>\n",
       "      <td>135000.0</td>\n",
       "      <td>1500.0</td>\n",
       "      <td>Diesel</td>\n",
       "      <td>Manual</td>\n",
       "      <td>8550.0</td>\n",
       "    </tr>\n",
       "    <tr>\n",
       "      <th>2</th>\n",
       "      <td>Volkswagen</td>\n",
       "      <td>Golf</td>\n",
       "      <td>1998.0</td>\n",
       "      <td>Hatchback</td>\n",
       "      <td>1.0</td>\n",
       "      <td>1400.0</td>\n",
       "      <td>Petrol</td>\n",
       "      <td>Manual</td>\n",
       "      <td>2200.0</td>\n",
       "    </tr>\n",
       "    <tr>\n",
       "      <th>3</th>\n",
       "      <td>Renault</td>\n",
       "      <td>Laguna</td>\n",
       "      <td>2012.0</td>\n",
       "      <td>Universal</td>\n",
       "      <td>110000.0</td>\n",
       "      <td>1500.0</td>\n",
       "      <td>Diesel</td>\n",
       "      <td>Manual</td>\n",
       "      <td>6550.0</td>\n",
       "    </tr>\n",
       "    <tr>\n",
       "      <th>4</th>\n",
       "      <td>Opel</td>\n",
       "      <td>Astra</td>\n",
       "      <td>2006.0</td>\n",
       "      <td>Universal</td>\n",
       "      <td>200000.0</td>\n",
       "      <td>1600.0</td>\n",
       "      <td>Metan/Propan</td>\n",
       "      <td>Manual</td>\n",
       "      <td>4100.0</td>\n",
       "    </tr>\n",
       "  </tbody>\n",
       "</table>\n",
       "</div>"
      ],
      "text/plain": [
       "         Make         Model    Year      Style  Distance  \\\n",
       "0      Toyota         Prius  2011.0  Hatchback  195000.0   \n",
       "1     Renault  Grand Scenic  2014.0  Universal  135000.0   \n",
       "2  Volkswagen          Golf  1998.0  Hatchback       1.0   \n",
       "3     Renault        Laguna  2012.0  Universal  110000.0   \n",
       "4        Opel         Astra  2006.0  Universal  200000.0   \n",
       "\n",
       "   Engine_capacity(cm3)     Fuel_type Transmission  Price(euro)  \n",
       "0                1800.0        Hybrid    Automatic       7750.0  \n",
       "1                1500.0        Diesel       Manual       8550.0  \n",
       "2                1400.0        Petrol       Manual       2200.0  \n",
       "3                1500.0        Diesel       Manual       6550.0  \n",
       "4                1600.0  Metan/Propan       Manual       4100.0  "
      ]
     },
     "execution_count": 4,
     "metadata": {},
     "output_type": "execute_result"
    }
   ],
   "source": [
    "df.head()"
   ]
  },
  {
   "cell_type": "code",
   "execution_count": 5,
   "id": "50578578-d855-4edf-be15-69e50f2194e7",
   "metadata": {},
   "outputs": [
    {
     "name": "stdout",
     "output_type": "stream",
     "text": [
      "<class 'pandas.core.frame.DataFrame'>\n",
      "RangeIndex: 41007 entries, 0 to 41006\n",
      "Data columns (total 9 columns):\n",
      " #   Column                Non-Null Count  Dtype  \n",
      "---  ------                --------------  -----  \n",
      " 0   make                  41007 non-null  object \n",
      " 1   model                 40671 non-null  object \n",
      " 2   year                  40771 non-null  float64\n",
      " 3   style                 40938 non-null  object \n",
      " 4   distance              40889 non-null  float64\n",
      " 5   engine_capacity(cm3)  41007 non-null  float64\n",
      " 6   fuel_type             41007 non-null  object \n",
      " 7   transmission          40779 non-null  object \n",
      " 8   price(euro)           41007 non-null  float64\n",
      "dtypes: float64(4), object(5)\n",
      "memory usage: 2.8+ MB\n"
     ]
    }
   ],
   "source": [
    "cols = df.columns.tolist()\n",
    "cols = [col.lower().replace(\" \", \"_\") for col in cols]\n",
    "df.columns = cols\n",
    "df.info()"
   ]
  },
  {
   "cell_type": "code",
   "execution_count": 6,
   "id": "271634ff-0309-4970-91cf-f4682e24ca0e",
   "metadata": {},
   "outputs": [
    {
     "data": {
      "text/plain": [
       "make                    0\n",
       "model                   0\n",
       "year                    0\n",
       "style                   0\n",
       "distance                0\n",
       "engine_capacity(cm3)    0\n",
       "fuel_type               0\n",
       "transmission            0\n",
       "price(euro)             0\n",
       "dtype: int64"
      ]
     },
     "execution_count": 6,
     "metadata": {},
     "output_type": "execute_result"
    }
   ],
   "source": [
    "if df.isnull().any().any():\n",
    "    for column in df.columns:\n",
    "        if df[column].dtype == 'int64':\n",
    "            # Заполним пропуски медианой для целых чисел\n",
    "            df[column].fillna(df[column].median(), inplace=True)\n",
    "        elif df[column].dtype == 'float64':\n",
    "            # Заполним пропуски средним значением для действительных чисел\n",
    "            df[column].fillna(df[column].mean(), inplace=True)\n",
    "        else:\n",
    "            # Заполним пропуски модой для остальных типов данных\n",
    "            df[column].fillna(df[column].mode().iloc[0], inplace=True)\n",
    "df.isna().sum()"
   ]
  },
  {
   "cell_type": "code",
   "execution_count": 7,
   "id": "a78ffc57-e0bc-4ca0-aaf1-a10b82f9aeff",
   "metadata": {},
   "outputs": [
    {
     "data": {
      "text/plain": [
       "0"
      ]
     },
     "execution_count": 7,
     "metadata": {},
     "output_type": "execute_result"
    }
   ],
   "source": [
    "df = df.drop_duplicates().reset_index(drop=True)\n",
    "df.duplicated().sum()"
   ]
  },
  {
   "cell_type": "code",
   "execution_count": 8,
   "id": "7aadee67-0ddd-4ab5-8378-72ea11ab043c",
   "metadata": {},
   "outputs": [
    {
     "data": {
      "text/html": [
       "<div>\n",
       "<style scoped>\n",
       "    .dataframe tbody tr th:only-of-type {\n",
       "        vertical-align: middle;\n",
       "    }\n",
       "\n",
       "    .dataframe tbody tr th {\n",
       "        vertical-align: top;\n",
       "    }\n",
       "\n",
       "    .dataframe thead th {\n",
       "        text-align: right;\n",
       "    }\n",
       "</style>\n",
       "<table border=\"1\" class=\"dataframe\">\n",
       "  <thead>\n",
       "    <tr style=\"text-align: right;\">\n",
       "      <th></th>\n",
       "      <th>year</th>\n",
       "      <th>distance</th>\n",
       "      <th>engine_capacity(cm3)</th>\n",
       "      <th>price(euro)</th>\n",
       "      <th>make_ARO</th>\n",
       "      <th>make_Abarth</th>\n",
       "      <th>make_Acura</th>\n",
       "      <th>make_Alfa Romeo</th>\n",
       "      <th>make_Alta marca</th>\n",
       "      <th>make_Aston Martin</th>\n",
       "      <th>...</th>\n",
       "      <th>style_Sedan</th>\n",
       "      <th>style_Universal</th>\n",
       "      <th>fuel_type_Diesel</th>\n",
       "      <th>fuel_type_Electric</th>\n",
       "      <th>fuel_type_Hybrid</th>\n",
       "      <th>fuel_type_Metan/Propan</th>\n",
       "      <th>fuel_type_Petrol</th>\n",
       "      <th>fuel_type_Plug-in Hybrid</th>\n",
       "      <th>transmission_Automatic</th>\n",
       "      <th>transmission_Manual</th>\n",
       "    </tr>\n",
       "  </thead>\n",
       "  <tbody>\n",
       "    <tr>\n",
       "      <th>0</th>\n",
       "      <td>2011</td>\n",
       "      <td>195000</td>\n",
       "      <td>1800</td>\n",
       "      <td>7750</td>\n",
       "      <td>False</td>\n",
       "      <td>False</td>\n",
       "      <td>False</td>\n",
       "      <td>False</td>\n",
       "      <td>False</td>\n",
       "      <td>False</td>\n",
       "      <td>...</td>\n",
       "      <td>False</td>\n",
       "      <td>False</td>\n",
       "      <td>False</td>\n",
       "      <td>False</td>\n",
       "      <td>True</td>\n",
       "      <td>False</td>\n",
       "      <td>False</td>\n",
       "      <td>False</td>\n",
       "      <td>True</td>\n",
       "      <td>False</td>\n",
       "    </tr>\n",
       "    <tr>\n",
       "      <th>1</th>\n",
       "      <td>2014</td>\n",
       "      <td>135000</td>\n",
       "      <td>1500</td>\n",
       "      <td>8550</td>\n",
       "      <td>False</td>\n",
       "      <td>False</td>\n",
       "      <td>False</td>\n",
       "      <td>False</td>\n",
       "      <td>False</td>\n",
       "      <td>False</td>\n",
       "      <td>...</td>\n",
       "      <td>False</td>\n",
       "      <td>True</td>\n",
       "      <td>True</td>\n",
       "      <td>False</td>\n",
       "      <td>False</td>\n",
       "      <td>False</td>\n",
       "      <td>False</td>\n",
       "      <td>False</td>\n",
       "      <td>False</td>\n",
       "      <td>True</td>\n",
       "    </tr>\n",
       "    <tr>\n",
       "      <th>2</th>\n",
       "      <td>1998</td>\n",
       "      <td>1</td>\n",
       "      <td>1400</td>\n",
       "      <td>2200</td>\n",
       "      <td>False</td>\n",
       "      <td>False</td>\n",
       "      <td>False</td>\n",
       "      <td>False</td>\n",
       "      <td>False</td>\n",
       "      <td>False</td>\n",
       "      <td>...</td>\n",
       "      <td>False</td>\n",
       "      <td>False</td>\n",
       "      <td>False</td>\n",
       "      <td>False</td>\n",
       "      <td>False</td>\n",
       "      <td>False</td>\n",
       "      <td>True</td>\n",
       "      <td>False</td>\n",
       "      <td>False</td>\n",
       "      <td>True</td>\n",
       "    </tr>\n",
       "    <tr>\n",
       "      <th>3</th>\n",
       "      <td>2012</td>\n",
       "      <td>110000</td>\n",
       "      <td>1500</td>\n",
       "      <td>6550</td>\n",
       "      <td>False</td>\n",
       "      <td>False</td>\n",
       "      <td>False</td>\n",
       "      <td>False</td>\n",
       "      <td>False</td>\n",
       "      <td>False</td>\n",
       "      <td>...</td>\n",
       "      <td>False</td>\n",
       "      <td>True</td>\n",
       "      <td>True</td>\n",
       "      <td>False</td>\n",
       "      <td>False</td>\n",
       "      <td>False</td>\n",
       "      <td>False</td>\n",
       "      <td>False</td>\n",
       "      <td>False</td>\n",
       "      <td>True</td>\n",
       "    </tr>\n",
       "    <tr>\n",
       "      <th>4</th>\n",
       "      <td>2006</td>\n",
       "      <td>200000</td>\n",
       "      <td>1600</td>\n",
       "      <td>4100</td>\n",
       "      <td>False</td>\n",
       "      <td>False</td>\n",
       "      <td>False</td>\n",
       "      <td>False</td>\n",
       "      <td>False</td>\n",
       "      <td>False</td>\n",
       "      <td>...</td>\n",
       "      <td>False</td>\n",
       "      <td>True</td>\n",
       "      <td>False</td>\n",
       "      <td>False</td>\n",
       "      <td>False</td>\n",
       "      <td>True</td>\n",
       "      <td>False</td>\n",
       "      <td>False</td>\n",
       "      <td>False</td>\n",
       "      <td>True</td>\n",
       "    </tr>\n",
       "    <tr>\n",
       "      <th>...</th>\n",
       "      <td>...</td>\n",
       "      <td>...</td>\n",
       "      <td>...</td>\n",
       "      <td>...</td>\n",
       "      <td>...</td>\n",
       "      <td>...</td>\n",
       "      <td>...</td>\n",
       "      <td>...</td>\n",
       "      <td>...</td>\n",
       "      <td>...</td>\n",
       "      <td>...</td>\n",
       "      <td>...</td>\n",
       "      <td>...</td>\n",
       "      <td>...</td>\n",
       "      <td>...</td>\n",
       "      <td>...</td>\n",
       "      <td>...</td>\n",
       "      <td>...</td>\n",
       "      <td>...</td>\n",
       "      <td>...</td>\n",
       "      <td>...</td>\n",
       "    </tr>\n",
       "    <tr>\n",
       "      <th>37395</th>\n",
       "      <td>2002</td>\n",
       "      <td>225000</td>\n",
       "      <td>1800</td>\n",
       "      <td>4400</td>\n",
       "      <td>False</td>\n",
       "      <td>False</td>\n",
       "      <td>False</td>\n",
       "      <td>False</td>\n",
       "      <td>False</td>\n",
       "      <td>False</td>\n",
       "      <td>...</td>\n",
       "      <td>False</td>\n",
       "      <td>False</td>\n",
       "      <td>False</td>\n",
       "      <td>False</td>\n",
       "      <td>False</td>\n",
       "      <td>True</td>\n",
       "      <td>False</td>\n",
       "      <td>False</td>\n",
       "      <td>False</td>\n",
       "      <td>True</td>\n",
       "    </tr>\n",
       "    <tr>\n",
       "      <th>37396</th>\n",
       "      <td>2015</td>\n",
       "      <td>89000</td>\n",
       "      <td>1500</td>\n",
       "      <td>7000</td>\n",
       "      <td>False</td>\n",
       "      <td>False</td>\n",
       "      <td>False</td>\n",
       "      <td>False</td>\n",
       "      <td>False</td>\n",
       "      <td>False</td>\n",
       "      <td>...</td>\n",
       "      <td>False</td>\n",
       "      <td>True</td>\n",
       "      <td>True</td>\n",
       "      <td>False</td>\n",
       "      <td>False</td>\n",
       "      <td>False</td>\n",
       "      <td>False</td>\n",
       "      <td>False</td>\n",
       "      <td>False</td>\n",
       "      <td>True</td>\n",
       "    </tr>\n",
       "    <tr>\n",
       "      <th>37397</th>\n",
       "      <td>2009</td>\n",
       "      <td>225</td>\n",
       "      <td>1500</td>\n",
       "      <td>4500</td>\n",
       "      <td>False</td>\n",
       "      <td>False</td>\n",
       "      <td>False</td>\n",
       "      <td>False</td>\n",
       "      <td>False</td>\n",
       "      <td>False</td>\n",
       "      <td>...</td>\n",
       "      <td>False</td>\n",
       "      <td>False</td>\n",
       "      <td>True</td>\n",
       "      <td>False</td>\n",
       "      <td>False</td>\n",
       "      <td>False</td>\n",
       "      <td>False</td>\n",
       "      <td>False</td>\n",
       "      <td>False</td>\n",
       "      <td>True</td>\n",
       "    </tr>\n",
       "    <tr>\n",
       "      <th>37398</th>\n",
       "      <td>2006</td>\n",
       "      <td>370000</td>\n",
       "      <td>2000</td>\n",
       "      <td>4000</td>\n",
       "      <td>False</td>\n",
       "      <td>False</td>\n",
       "      <td>False</td>\n",
       "      <td>False</td>\n",
       "      <td>False</td>\n",
       "      <td>False</td>\n",
       "      <td>...</td>\n",
       "      <td>False</td>\n",
       "      <td>False</td>\n",
       "      <td>True</td>\n",
       "      <td>False</td>\n",
       "      <td>False</td>\n",
       "      <td>False</td>\n",
       "      <td>False</td>\n",
       "      <td>False</td>\n",
       "      <td>False</td>\n",
       "      <td>True</td>\n",
       "    </tr>\n",
       "    <tr>\n",
       "      <th>37399</th>\n",
       "      <td>2006</td>\n",
       "      <td>300000</td>\n",
       "      <td>1500</td>\n",
       "      <td>4000</td>\n",
       "      <td>False</td>\n",
       "      <td>False</td>\n",
       "      <td>False</td>\n",
       "      <td>False</td>\n",
       "      <td>False</td>\n",
       "      <td>False</td>\n",
       "      <td>...</td>\n",
       "      <td>False</td>\n",
       "      <td>False</td>\n",
       "      <td>True</td>\n",
       "      <td>False</td>\n",
       "      <td>False</td>\n",
       "      <td>False</td>\n",
       "      <td>False</td>\n",
       "      <td>False</td>\n",
       "      <td>False</td>\n",
       "      <td>True</td>\n",
       "    </tr>\n",
       "  </tbody>\n",
       "</table>\n",
       "<p>37400 rows × 940 columns</p>\n",
       "</div>"
      ],
      "text/plain": [
       "       year  distance  engine_capacity(cm3)  price(euro)  make_ARO  \\\n",
       "0      2011    195000                  1800         7750     False   \n",
       "1      2014    135000                  1500         8550     False   \n",
       "2      1998         1                  1400         2200     False   \n",
       "3      2012    110000                  1500         6550     False   \n",
       "4      2006    200000                  1600         4100     False   \n",
       "...     ...       ...                   ...          ...       ...   \n",
       "37395  2002    225000                  1800         4400     False   \n",
       "37396  2015     89000                  1500         7000     False   \n",
       "37397  2009       225                  1500         4500     False   \n",
       "37398  2006    370000                  2000         4000     False   \n",
       "37399  2006    300000                  1500         4000     False   \n",
       "\n",
       "       make_Abarth  make_Acura  make_Alfa Romeo  make_Alta marca  \\\n",
       "0            False       False            False            False   \n",
       "1            False       False            False            False   \n",
       "2            False       False            False            False   \n",
       "3            False       False            False            False   \n",
       "4            False       False            False            False   \n",
       "...            ...         ...              ...              ...   \n",
       "37395        False       False            False            False   \n",
       "37396        False       False            False            False   \n",
       "37397        False       False            False            False   \n",
       "37398        False       False            False            False   \n",
       "37399        False       False            False            False   \n",
       "\n",
       "       make_Aston Martin  ...  style_Sedan  style_Universal  fuel_type_Diesel  \\\n",
       "0                  False  ...        False            False             False   \n",
       "1                  False  ...        False             True              True   \n",
       "2                  False  ...        False            False             False   \n",
       "3                  False  ...        False             True              True   \n",
       "4                  False  ...        False             True             False   \n",
       "...                  ...  ...          ...              ...               ...   \n",
       "37395              False  ...        False            False             False   \n",
       "37396              False  ...        False             True              True   \n",
       "37397              False  ...        False            False              True   \n",
       "37398              False  ...        False            False              True   \n",
       "37399              False  ...        False            False              True   \n",
       "\n",
       "       fuel_type_Electric  fuel_type_Hybrid  fuel_type_Metan/Propan  \\\n",
       "0                   False              True                   False   \n",
       "1                   False             False                   False   \n",
       "2                   False             False                   False   \n",
       "3                   False             False                   False   \n",
       "4                   False             False                    True   \n",
       "...                   ...               ...                     ...   \n",
       "37395               False             False                    True   \n",
       "37396               False             False                   False   \n",
       "37397               False             False                   False   \n",
       "37398               False             False                   False   \n",
       "37399               False             False                   False   \n",
       "\n",
       "       fuel_type_Petrol  fuel_type_Plug-in Hybrid  transmission_Automatic  \\\n",
       "0                 False                     False                    True   \n",
       "1                 False                     False                   False   \n",
       "2                  True                     False                   False   \n",
       "3                 False                     False                   False   \n",
       "4                 False                     False                   False   \n",
       "...                 ...                       ...                     ...   \n",
       "37395             False                     False                   False   \n",
       "37396             False                     False                   False   \n",
       "37397             False                     False                   False   \n",
       "37398             False                     False                   False   \n",
       "37399             False                     False                   False   \n",
       "\n",
       "       transmission_Manual  \n",
       "0                    False  \n",
       "1                     True  \n",
       "2                     True  \n",
       "3                     True  \n",
       "4                     True  \n",
       "...                    ...  \n",
       "37395                 True  \n",
       "37396                 True  \n",
       "37397                 True  \n",
       "37398                 True  \n",
       "37399                 True  \n",
       "\n",
       "[37400 rows x 940 columns]"
      ]
     },
     "execution_count": 8,
     "metadata": {},
     "output_type": "execute_result"
    }
   ],
   "source": [
    "for column in df.columns:\n",
    "    if df[column].dtype == float:\n",
    "        df[column] = df[column].astype(int)\n",
    "\n",
    "df = pd.get_dummies(df)\n",
    "df"
   ]
  },
  {
   "cell_type": "markdown",
   "id": "3e846a83-791f-4ce2-8f88-05b7b5eb7657",
   "metadata": {},
   "source": [
    "# EDA"
   ]
  },
  {
   "cell_type": "code",
   "execution_count": 9,
   "id": "336b8d1f-5ebd-47b1-b560-4079130caa9a",
   "metadata": {},
   "outputs": [
    {
     "data": {
      "image/png": "[encoded data removed]",
      "text/plain": [
       "<Figure size 1200x800 with 2 Axes>"
      ]
     },
     "metadata": {},
     "output_type": "display_data"
    }
   ],
   "source": [
    "plt.figure(figsize=(12, 8))\n",
    "selected_cols = ['year','distance','engine_capacity(cm3)','price(euro)']\n",
    "selected_df = df[selected_cols]\n",
    "sns.heatmap(selected_df.corr(), annot=True, cmap='coolwarm')\n",
    "plt.title('Тепловая карта с корреляцией')\n",
    "plt.show()"
   ]
  },
  {
   "cell_type": "code",
   "execution_count": 10,
   "id": "a1244dce-3c41-4470-ae2c-76b83c7b9cb1",
   "metadata": {},
   "outputs": [
    {
     "data": {
      "image/png": "[encoded data removed]",
      "text/plain": [
       "<Figure size 640x480 with 1 Axes>"
      ]
     },
     "metadata": {},
     "output_type": "display_data"
    },
    {
     "data": {
      "image/png": "[encoded data removed]",
      "text/plain": [
       "<Figure size 640x480 with 1 Axes>"
      ]
     },
     "metadata": {},
     "output_type": "display_data"
    },
    {
     "data": {
      "image/png": "[encoded data removed]",
      "text/plain": [
       "<Figure size 640x480 with 1 Axes>"
      ]
     },
     "metadata": {},
     "output_type": "display_data"
    },
    {
     "data": {
      "image/png": "[encoded data removed]",
      "text/plain": [
       "<Figure size 640x480 with 1 Axes>"
      ]
     },
     "metadata": {},
     "output_type": "display_data"
    }
   ],
   "source": [
    "columns = ['year','distance','engine_capacity(cm3)','price(euro)']\n",
    "\n",
    "for col in columns:\n",
    "    df.hist(col, bins=100)"
   ]
  },
  {
   "cell_type": "code",
   "execution_count": 11,
   "id": "865e5fb2-c1f3-4fa2-8698-e46147cbbade",
   "metadata": {},
   "outputs": [
    {
     "data": {
      "text/html": [
       "<div>\n",
       "<style scoped>\n",
       "    .dataframe tbody tr th:only-of-type {\n",
       "        vertical-align: middle;\n",
       "    }\n",
       "\n",
       "    .dataframe tbody tr th {\n",
       "        vertical-align: top;\n",
       "    }\n",
       "\n",
       "    .dataframe thead th {\n",
       "        text-align: right;\n",
       "    }\n",
       "</style>\n",
       "<table border=\"1\" class=\"dataframe\">\n",
       "  <thead>\n",
       "    <tr style=\"text-align: right;\">\n",
       "      <th></th>\n",
       "      <th>year</th>\n",
       "      <th>distance</th>\n",
       "      <th>engine_capacity(cm3)</th>\n",
       "      <th>price(euro)</th>\n",
       "    </tr>\n",
       "  </thead>\n",
       "  <tbody>\n",
       "    <tr>\n",
       "      <th>count</th>\n",
       "      <td>37400.000000</td>\n",
       "      <td>3.740000e+04</td>\n",
       "      <td>37400.000000</td>\n",
       "      <td>3.740000e+04</td>\n",
       "    </tr>\n",
       "    <tr>\n",
       "      <th>mean</th>\n",
       "      <td>2007.715107</td>\n",
       "      <td>4.753507e+05</td>\n",
       "      <td>1858.674144</td>\n",
       "      <td>9.572425e+03</td>\n",
       "    </tr>\n",
       "    <tr>\n",
       "      <th>std</th>\n",
       "      <td>8.271580</td>\n",
       "      <td>4.582855e+06</td>\n",
       "      <td>707.121519</td>\n",
       "      <td>5.273907e+04</td>\n",
       "    </tr>\n",
       "    <tr>\n",
       "      <th>min</th>\n",
       "      <td>1900.000000</td>\n",
       "      <td>0.000000e+00</td>\n",
       "      <td>0.000000</td>\n",
       "      <td>1.000000e+00</td>\n",
       "    </tr>\n",
       "    <tr>\n",
       "      <th>25%</th>\n",
       "      <td>2004.000000</td>\n",
       "      <td>9.000000e+04</td>\n",
       "      <td>1499.000000</td>\n",
       "      <td>3.333000e+03</td>\n",
       "    </tr>\n",
       "    <tr>\n",
       "      <th>50%</th>\n",
       "      <td>2009.000000</td>\n",
       "      <td>1.700000e+05</td>\n",
       "      <td>1800.000000</td>\n",
       "      <td>6.499000e+03</td>\n",
       "    </tr>\n",
       "    <tr>\n",
       "      <th>75%</th>\n",
       "      <td>2014.000000</td>\n",
       "      <td>2.309292e+05</td>\n",
       "      <td>2000.000000</td>\n",
       "      <td>1.180000e+04</td>\n",
       "    </tr>\n",
       "    <tr>\n",
       "      <th>max</th>\n",
       "      <td>2021.000000</td>\n",
       "      <td>1.000000e+08</td>\n",
       "      <td>9999.000000</td>\n",
       "      <td>1.000000e+07</td>\n",
       "    </tr>\n",
       "  </tbody>\n",
       "</table>\n",
       "</div>"
      ],
      "text/plain": [
       "               year      distance  engine_capacity(cm3)   price(euro)\n",
       "count  37400.000000  3.740000e+04          37400.000000  3.740000e+04\n",
       "mean    2007.715107  4.753507e+05           1858.674144  9.572425e+03\n",
       "std        8.271580  4.582855e+06            707.121519  5.273907e+04\n",
       "min     1900.000000  0.000000e+00              0.000000  1.000000e+00\n",
       "25%     2004.000000  9.000000e+04           1499.000000  3.333000e+03\n",
       "50%     2009.000000  1.700000e+05           1800.000000  6.499000e+03\n",
       "75%     2014.000000  2.309292e+05           2000.000000  1.180000e+04\n",
       "max     2021.000000  1.000000e+08           9999.000000  1.000000e+07"
      ]
     },
     "execution_count": 11,
     "metadata": {},
     "output_type": "execute_result"
    }
   ],
   "source": [
    "df.describe()[['year','distance','engine_capacity(cm3)','price(euro)']]"
   ]
  },
  {
   "cell_type": "code",
   "execution_count": 12,
   "id": "cf68451d-3e86-4268-ad57-265f53d1637a",
   "metadata": {},
   "outputs": [
    {
     "data": {
      "text/html": [
       "<div>\n",
       "<style scoped>\n",
       "    .dataframe tbody tr th:only-of-type {\n",
       "        vertical-align: middle;\n",
       "    }\n",
       "\n",
       "    .dataframe tbody tr th {\n",
       "        vertical-align: top;\n",
       "    }\n",
       "\n",
       "    .dataframe thead th {\n",
       "        text-align: right;\n",
       "    }\n",
       "</style>\n",
       "<table border=\"1\" class=\"dataframe\">\n",
       "  <thead>\n",
       "    <tr style=\"text-align: right;\">\n",
       "      <th></th>\n",
       "      <th>year</th>\n",
       "      <th>distance</th>\n",
       "      <th>engine_capacity(cm3)</th>\n",
       "      <th>price(euro)</th>\n",
       "      <th>make_ARO</th>\n",
       "      <th>make_Abarth</th>\n",
       "      <th>make_Acura</th>\n",
       "      <th>make_Alfa Romeo</th>\n",
       "      <th>make_Alta marca</th>\n",
       "      <th>make_Aston Martin</th>\n",
       "      <th>...</th>\n",
       "      <th>style_Sedan</th>\n",
       "      <th>style_Universal</th>\n",
       "      <th>fuel_type_Diesel</th>\n",
       "      <th>fuel_type_Electric</th>\n",
       "      <th>fuel_type_Hybrid</th>\n",
       "      <th>fuel_type_Metan/Propan</th>\n",
       "      <th>fuel_type_Petrol</th>\n",
       "      <th>fuel_type_Plug-in Hybrid</th>\n",
       "      <th>transmission_Automatic</th>\n",
       "      <th>transmission_Manual</th>\n",
       "    </tr>\n",
       "  </thead>\n",
       "  <tbody>\n",
       "    <tr>\n",
       "      <th>0</th>\n",
       "      <td>2011</td>\n",
       "      <td>195000</td>\n",
       "      <td>1800</td>\n",
       "      <td>7750</td>\n",
       "      <td>False</td>\n",
       "      <td>False</td>\n",
       "      <td>False</td>\n",
       "      <td>False</td>\n",
       "      <td>False</td>\n",
       "      <td>False</td>\n",
       "      <td>...</td>\n",
       "      <td>False</td>\n",
       "      <td>False</td>\n",
       "      <td>False</td>\n",
       "      <td>False</td>\n",
       "      <td>True</td>\n",
       "      <td>False</td>\n",
       "      <td>False</td>\n",
       "      <td>False</td>\n",
       "      <td>True</td>\n",
       "      <td>False</td>\n",
       "    </tr>\n",
       "    <tr>\n",
       "      <th>1</th>\n",
       "      <td>2014</td>\n",
       "      <td>135000</td>\n",
       "      <td>1500</td>\n",
       "      <td>8550</td>\n",
       "      <td>False</td>\n",
       "      <td>False</td>\n",
       "      <td>False</td>\n",
       "      <td>False</td>\n",
       "      <td>False</td>\n",
       "      <td>False</td>\n",
       "      <td>...</td>\n",
       "      <td>False</td>\n",
       "      <td>True</td>\n",
       "      <td>True</td>\n",
       "      <td>False</td>\n",
       "      <td>False</td>\n",
       "      <td>False</td>\n",
       "      <td>False</td>\n",
       "      <td>False</td>\n",
       "      <td>False</td>\n",
       "      <td>True</td>\n",
       "    </tr>\n",
       "    <tr>\n",
       "      <th>2</th>\n",
       "      <td>1998</td>\n",
       "      <td>1</td>\n",
       "      <td>1400</td>\n",
       "      <td>2200</td>\n",
       "      <td>False</td>\n",
       "      <td>False</td>\n",
       "      <td>False</td>\n",
       "      <td>False</td>\n",
       "      <td>False</td>\n",
       "      <td>False</td>\n",
       "      <td>...</td>\n",
       "      <td>False</td>\n",
       "      <td>False</td>\n",
       "      <td>False</td>\n",
       "      <td>False</td>\n",
       "      <td>False</td>\n",
       "      <td>False</td>\n",
       "      <td>True</td>\n",
       "      <td>False</td>\n",
       "      <td>False</td>\n",
       "      <td>True</td>\n",
       "    </tr>\n",
       "    <tr>\n",
       "      <th>3</th>\n",
       "      <td>2012</td>\n",
       "      <td>110000</td>\n",
       "      <td>1500</td>\n",
       "      <td>6550</td>\n",
       "      <td>False</td>\n",
       "      <td>False</td>\n",
       "      <td>False</td>\n",
       "      <td>False</td>\n",
       "      <td>False</td>\n",
       "      <td>False</td>\n",
       "      <td>...</td>\n",
       "      <td>False</td>\n",
       "      <td>True</td>\n",
       "      <td>True</td>\n",
       "      <td>False</td>\n",
       "      <td>False</td>\n",
       "      <td>False</td>\n",
       "      <td>False</td>\n",
       "      <td>False</td>\n",
       "      <td>False</td>\n",
       "      <td>True</td>\n",
       "    </tr>\n",
       "    <tr>\n",
       "      <th>4</th>\n",
       "      <td>2006</td>\n",
       "      <td>200000</td>\n",
       "      <td>1600</td>\n",
       "      <td>4100</td>\n",
       "      <td>False</td>\n",
       "      <td>False</td>\n",
       "      <td>False</td>\n",
       "      <td>False</td>\n",
       "      <td>False</td>\n",
       "      <td>False</td>\n",
       "      <td>...</td>\n",
       "      <td>False</td>\n",
       "      <td>True</td>\n",
       "      <td>False</td>\n",
       "      <td>False</td>\n",
       "      <td>False</td>\n",
       "      <td>True</td>\n",
       "      <td>False</td>\n",
       "      <td>False</td>\n",
       "      <td>False</td>\n",
       "      <td>True</td>\n",
       "    </tr>\n",
       "  </tbody>\n",
       "</table>\n",
       "<p>5 rows × 940 columns</p>\n",
       "</div>"
      ],
      "text/plain": [
       "   year  distance  engine_capacity(cm3)  price(euro)  make_ARO  make_Abarth  \\\n",
       "0  2011    195000                  1800         7750     False        False   \n",
       "1  2014    135000                  1500         8550     False        False   \n",
       "2  1998         1                  1400         2200     False        False   \n",
       "3  2012    110000                  1500         6550     False        False   \n",
       "4  2006    200000                  1600         4100     False        False   \n",
       "\n",
       "   make_Acura  make_Alfa Romeo  make_Alta marca  make_Aston Martin  ...  \\\n",
       "0       False            False            False              False  ...   \n",
       "1       False            False            False              False  ...   \n",
       "2       False            False            False              False  ...   \n",
       "3       False            False            False              False  ...   \n",
       "4       False            False            False              False  ...   \n",
       "\n",
       "   style_Sedan  style_Universal  fuel_type_Diesel  fuel_type_Electric  \\\n",
       "0        False            False             False               False   \n",
       "1        False             True              True               False   \n",
       "2        False            False             False               False   \n",
       "3        False             True              True               False   \n",
       "4        False             True             False               False   \n",
       "\n",
       "   fuel_type_Hybrid  fuel_type_Metan/Propan  fuel_type_Petrol  \\\n",
       "0              True                   False             False   \n",
       "1             False                   False             False   \n",
       "2             False                   False              True   \n",
       "3             False                   False             False   \n",
       "4             False                    True             False   \n",
       "\n",
       "   fuel_type_Plug-in Hybrid  transmission_Automatic  transmission_Manual  \n",
       "0                     False                    True                False  \n",
       "1                     False                   False                 True  \n",
       "2                     False                   False                 True  \n",
       "3                     False                   False                 True  \n",
       "4                     False                   False                 True  \n",
       "\n",
       "[5 rows x 940 columns]"
      ]
     },
     "execution_count": 12,
     "metadata": {},
     "output_type": "execute_result"
    }
   ],
   "source": [
    "outlier = df[['year','distance','engine_capacity(cm3)','price(euro)']]\n",
    "Q1 = outlier.quantile(0.25)\n",
    "Q3 = outlier.quantile(0.75)\n",
    "IQR = Q3-Q1\n",
    "df_filtered = outlier[~((outlier < (Q1 - 1.5 * IQR)) |(outlier > (Q3 + 1.5 * IQR))).any(axis=1)]\n",
    "index_list = list(df_filtered.index.values)\n",
    "df_filtered = df[df.index.isin(index_list)]\n",
    "df_filtered.head()"
   ]
  },
  {
   "cell_type": "code",
   "execution_count": 13,
   "id": "ea607d63-1f91-4f89-91ff-ce89af037e90",
   "metadata": {},
   "outputs": [
    {
     "data": {
      "image/png": "[encoded data removed]",
      "text/plain": [
       "<Figure size 640x480 with 1 Axes>"
      ]
     },
     "metadata": {},
     "output_type": "display_data"
    },
    {
     "data": {
      "image/png": "[encoded data removed]",
      "text/plain": [
       "<Figure size 640x480 with 1 Axes>"
      ]
     },
     "metadata": {},
     "output_type": "display_data"
    },
    {
     "data": {
      "image/png": "[encoded data removed]",
      "text/plain": [
       "<Figure size 640x480 with 1 Axes>"
      ]
     },
     "metadata": {},
     "output_type": "display_data"
    },
    {
     "data": {
      "image/png": "[encoded data removed]",
      "text/plain": [
       "<Figure size 640x480 with 1 Axes>"
      ]
     },
     "metadata": {},
     "output_type": "display_data"
    }
   ],
   "source": [
    "filtered_outlier = df_filtered[['year','distance','engine_capacity(cm3)','price(euro)']]\n",
    "\n",
    "for col in filtered_outlier:\n",
    "    df_filtered.hist(col, bins=100)"
   ]
  },
  {
   "cell_type": "code",
   "execution_count": 14,
   "id": "c5c98e99-01b1-43da-8d2d-a089f4fb2867",
   "metadata": {},
   "outputs": [
    {
     "data": {
      "text/html": [
       "<div>\n",
       "<style scoped>\n",
       "    .dataframe tbody tr th:only-of-type {\n",
       "        vertical-align: middle;\n",
       "    }\n",
       "\n",
       "    .dataframe tbody tr th {\n",
       "        vertical-align: top;\n",
       "    }\n",
       "\n",
       "    .dataframe thead th {\n",
       "        text-align: right;\n",
       "    }\n",
       "</style>\n",
       "<table border=\"1\" class=\"dataframe\">\n",
       "  <thead>\n",
       "    <tr style=\"text-align: right;\">\n",
       "      <th></th>\n",
       "      <th>year</th>\n",
       "      <th>distance</th>\n",
       "      <th>engine_capacity(cm3)</th>\n",
       "      <th>price(euro)</th>\n",
       "      <th>make_ARO</th>\n",
       "      <th>make_Abarth</th>\n",
       "      <th>make_Acura</th>\n",
       "      <th>make_Alfa Romeo</th>\n",
       "      <th>make_Alta marca</th>\n",
       "      <th>make_Aston Martin</th>\n",
       "      <th>...</th>\n",
       "      <th>style_Sedan</th>\n",
       "      <th>style_Universal</th>\n",
       "      <th>fuel_type_Diesel</th>\n",
       "      <th>fuel_type_Electric</th>\n",
       "      <th>fuel_type_Hybrid</th>\n",
       "      <th>fuel_type_Metan/Propan</th>\n",
       "      <th>fuel_type_Petrol</th>\n",
       "      <th>fuel_type_Plug-in Hybrid</th>\n",
       "      <th>transmission_Automatic</th>\n",
       "      <th>transmission_Manual</th>\n",
       "    </tr>\n",
       "  </thead>\n",
       "  <tbody>\n",
       "    <tr>\n",
       "      <th>0</th>\n",
       "      <td>2011</td>\n",
       "      <td>195000</td>\n",
       "      <td>1800</td>\n",
       "      <td>7750</td>\n",
       "      <td>False</td>\n",
       "      <td>False</td>\n",
       "      <td>False</td>\n",
       "      <td>False</td>\n",
       "      <td>False</td>\n",
       "      <td>False</td>\n",
       "      <td>...</td>\n",
       "      <td>False</td>\n",
       "      <td>False</td>\n",
       "      <td>False</td>\n",
       "      <td>False</td>\n",
       "      <td>True</td>\n",
       "      <td>False</td>\n",
       "      <td>False</td>\n",
       "      <td>False</td>\n",
       "      <td>True</td>\n",
       "      <td>False</td>\n",
       "    </tr>\n",
       "    <tr>\n",
       "      <th>1</th>\n",
       "      <td>2014</td>\n",
       "      <td>135000</td>\n",
       "      <td>1500</td>\n",
       "      <td>8550</td>\n",
       "      <td>False</td>\n",
       "      <td>False</td>\n",
       "      <td>False</td>\n",
       "      <td>False</td>\n",
       "      <td>False</td>\n",
       "      <td>False</td>\n",
       "      <td>...</td>\n",
       "      <td>False</td>\n",
       "      <td>True</td>\n",
       "      <td>True</td>\n",
       "      <td>False</td>\n",
       "      <td>False</td>\n",
       "      <td>False</td>\n",
       "      <td>False</td>\n",
       "      <td>False</td>\n",
       "      <td>False</td>\n",
       "      <td>True</td>\n",
       "    </tr>\n",
       "    <tr>\n",
       "      <th>2</th>\n",
       "      <td>1998</td>\n",
       "      <td>1</td>\n",
       "      <td>1400</td>\n",
       "      <td>2200</td>\n",
       "      <td>False</td>\n",
       "      <td>False</td>\n",
       "      <td>False</td>\n",
       "      <td>False</td>\n",
       "      <td>False</td>\n",
       "      <td>False</td>\n",
       "      <td>...</td>\n",
       "      <td>False</td>\n",
       "      <td>False</td>\n",
       "      <td>False</td>\n",
       "      <td>False</td>\n",
       "      <td>False</td>\n",
       "      <td>False</td>\n",
       "      <td>True</td>\n",
       "      <td>False</td>\n",
       "      <td>False</td>\n",
       "      <td>True</td>\n",
       "    </tr>\n",
       "    <tr>\n",
       "      <th>3</th>\n",
       "      <td>2012</td>\n",
       "      <td>110000</td>\n",
       "      <td>1500</td>\n",
       "      <td>6550</td>\n",
       "      <td>False</td>\n",
       "      <td>False</td>\n",
       "      <td>False</td>\n",
       "      <td>False</td>\n",
       "      <td>False</td>\n",
       "      <td>False</td>\n",
       "      <td>...</td>\n",
       "      <td>False</td>\n",
       "      <td>True</td>\n",
       "      <td>True</td>\n",
       "      <td>False</td>\n",
       "      <td>False</td>\n",
       "      <td>False</td>\n",
       "      <td>False</td>\n",
       "      <td>False</td>\n",
       "      <td>False</td>\n",
       "      <td>True</td>\n",
       "    </tr>\n",
       "    <tr>\n",
       "      <th>4</th>\n",
       "      <td>2006</td>\n",
       "      <td>200000</td>\n",
       "      <td>1600</td>\n",
       "      <td>4100</td>\n",
       "      <td>False</td>\n",
       "      <td>False</td>\n",
       "      <td>False</td>\n",
       "      <td>False</td>\n",
       "      <td>False</td>\n",
       "      <td>False</td>\n",
       "      <td>...</td>\n",
       "      <td>False</td>\n",
       "      <td>True</td>\n",
       "      <td>False</td>\n",
       "      <td>False</td>\n",
       "      <td>False</td>\n",
       "      <td>True</td>\n",
       "      <td>False</td>\n",
       "      <td>False</td>\n",
       "      <td>False</td>\n",
       "      <td>True</td>\n",
       "    </tr>\n",
       "  </tbody>\n",
       "</table>\n",
       "<p>5 rows × 940 columns</p>\n",
       "</div>"
      ],
      "text/plain": [
       "   year  distance  engine_capacity(cm3)  price(euro)  make_ARO  make_Abarth  \\\n",
       "0  2011    195000                  1800         7750     False        False   \n",
       "1  2014    135000                  1500         8550     False        False   \n",
       "2  1998         1                  1400         2200     False        False   \n",
       "3  2012    110000                  1500         6550     False        False   \n",
       "4  2006    200000                  1600         4100     False        False   \n",
       "\n",
       "   make_Acura  make_Alfa Romeo  make_Alta marca  make_Aston Martin  ...  \\\n",
       "0       False            False            False              False  ...   \n",
       "1       False            False            False              False  ...   \n",
       "2       False            False            False              False  ...   \n",
       "3       False            False            False              False  ...   \n",
       "4       False            False            False              False  ...   \n",
       "\n",
       "   style_Sedan  style_Universal  fuel_type_Diesel  fuel_type_Electric  \\\n",
       "0        False            False             False               False   \n",
       "1        False             True              True               False   \n",
       "2        False            False             False               False   \n",
       "3        False             True              True               False   \n",
       "4        False             True             False               False   \n",
       "\n",
       "   fuel_type_Hybrid  fuel_type_Metan/Propan  fuel_type_Petrol  \\\n",
       "0              True                   False             False   \n",
       "1             False                   False             False   \n",
       "2             False                   False              True   \n",
       "3             False                   False             False   \n",
       "4             False                    True             False   \n",
       "\n",
       "   fuel_type_Plug-in Hybrid  transmission_Automatic  transmission_Manual  \n",
       "0                     False                    True                False  \n",
       "1                     False                   False                 True  \n",
       "2                     False                   False                 True  \n",
       "3                     False                   False                 True  \n",
       "4                     False                   False                 True  \n",
       "\n",
       "[5 rows x 940 columns]"
      ]
     },
     "execution_count": 14,
     "metadata": {},
     "output_type": "execute_result"
    }
   ],
   "source": [
    "df_filtered.head()"
   ]
  },
  {
   "cell_type": "markdown",
   "id": "7d5f9f59-b4b3-468d-9a89-71118993c57d",
   "metadata": {},
   "source": [
    "# Обучение с учителем. Задача регрессии"
   ]
  },
  {
   "cell_type": "code",
   "execution_count": 15,
   "id": "9c08f0d4-1415-4bd3-9f95-1e5535ab0df3",
   "metadata": {},
   "outputs": [],
   "source": [
    "from sklearn.model_selection import train_test_split\n",
    "from sklearn.linear_model import LinearRegression, Lasso, Ridge\n",
    "from sklearn.metrics import r2_score, mean_absolute_error, mean_squared_error\n",
    "from sklearn.preprocessing import PolynomialFeatures\n",
    "from sklearn.pipeline import Pipeline"
   ]
  },
  {
   "cell_type": "markdown",
   "id": "f658912c-d502-4568-80f9-9c30b803f767",
   "metadata": {},
   "source": [
    "### Первый шаг: выделение целевого признака и предикторов"
   ]
  },
  {
   "cell_type": "code",
   "execution_count": 16,
   "id": "a9ca7a6a-fcd1-4955-af6c-a0c9c3581922",
   "metadata": {},
   "outputs": [],
   "source": [
    "y = df_filtered[\"price(euro)\"]\n",
    "X = df_filtered.drop([\"price(euro)\"], axis=1)\n",
    "\n",
    "X_single = df_filtered['year'].values.reshape(-1, 1)"
   ]
  },
  {
   "cell_type": "markdown",
   "id": "0ee21353-a094-4b74-8ad0-4b4d8d21c853",
   "metadata": {},
   "source": [
    "### Второй шаг: разделение данных на обучающую и тестовую выборки"
   ]
  },
  {
   "cell_type": "code",
   "execution_count": 17,
   "id": "07225cd6-ab9c-42fc-b634-b602292d83ed",
   "metadata": {},
   "outputs": [],
   "source": [
    "X_train, X_test, X_train_single, X_test_single, y_train, y_test = train_test_split(X, X_single, y, test_size=0.2)"
   ]
  },
  {
   "cell_type": "markdown",
   "id": "a5d641f2-04b0-4311-8779-2f176060a4e4",
   "metadata": {},
   "source": [
    "### Линейная регрессия в sklearn"
   ]
  },
  {
   "cell_type": "markdown",
   "id": "5a252ff4-2aaf-43f9-a3c4-7dcc2dea89c7",
   "metadata": {},
   "source": [
    "### Подбираем параметр альфа"
   ]
  },
  {
   "cell_type": "code",
   "execution_count": 18,
   "id": "891835ad-971f-44f6-8283-2ea5c07d2e81",
   "metadata": {},
   "outputs": [
    {
     "data": {
      "text/plain": [
       "{'alpha': 0.9}"
      ]
     },
     "execution_count": 18,
     "metadata": {},
     "output_type": "execute_result"
    }
   ],
   "source": [
    "from sklearn.model_selection import GridSearchCV, RandomizedSearchCV\n",
    "import numpy as np\n",
    "# для поиска гиперпараметров мы всегда сначала формируем словарь\n",
    "# ключами словаря являются названия гиперпараметров\n",
    "# значениями - список (или массив numpy) с возможными значениями\n",
    "# параметры описываются в документации к моделям, так что можно и нужно гуглить\n",
    "parameters = {'alpha': np.arange(0, 1, 0.1)}\n",
    "\n",
    "# а теперь пробуем подобрать значение этого гиперпараметра с помощью GridSearchCV\n",
    "# оборачиваем нашу модель в объект GridSearchCV, туда же передаем словарь с параметрами и стартуем обучение\n",
    "ridge_optimal = GridSearchCV(Ridge(), parameters).fit(X_train_single, y_train)\n",
    "# выводим оптимальные значения параметров\n",
    "ridge_optimal.best_params_"
   ]
  },
  {
   "cell_type": "code",
   "execution_count": 19,
   "id": "83e14733-70e4-4986-a3e3-215ddbec871a",
   "metadata": {},
   "outputs": [
    {
     "data": {
      "text/html": [
       "<style>#sk-container-id-1 {color: black;}#sk-container-id-1 pre{padding: 0;}#sk-container-id-1 div.sk-toggleable {background-color: white;}#sk-container-id-1 label.sk-toggleable__label {cursor: pointer;display: block;width: 100%;margin-bottom: 0;padding: 0.3em;box-sizing: border-box;text-align: center;}#sk-container-id-1 label.sk-toggleable__label-arrow:before {content: \"▸\";float: left;margin-right: 0.25em;color: #696969;}#sk-container-id-1 label.sk-toggleable__label-arrow:hover:before {color: black;}#sk-container-id-1 div.sk-estimator:hover label.sk-toggleable__label-arrow:before {color: black;}#sk-container-id-1 div.sk-toggleable__content {max-height: 0;max-width: 0;overflow: hidden;text-align: left;background-color: #f0f8ff;}#sk-container-id-1 div.sk-toggleable__content pre {margin: 0.2em;color: black;border-radius: 0.25em;background-color: #f0f8ff;}#sk-container-id-1 input.sk-toggleable__control:checked~div.sk-toggleable__content {max-height: 200px;max-width: 100%;overflow: auto;}#sk-container-id-1 input.sk-toggleable__control:checked~label.sk-toggleable__label-arrow:before {content: \"▾\";}#sk-container-id-1 div.sk-estimator input.sk-toggleable__control:checked~label.sk-toggleable__label {background-color: #d4ebff;}#sk-container-id-1 div.sk-label input.sk-toggleable__control:checked~label.sk-toggleable__label {background-color: #d4ebff;}#sk-container-id-1 input.sk-hidden--visually {border: 0;clip: rect(1px 1px 1px 1px);clip: rect(1px, 1px, 1px, 1px);height: 1px;margin: -1px;overflow: hidden;padding: 0;position: absolute;width: 1px;}#sk-container-id-1 div.sk-estimator {font-family: monospace;background-color: #f0f8ff;border: 1px dotted black;border-radius: 0.25em;box-sizing: border-box;margin-bottom: 0.5em;}#sk-container-id-1 div.sk-estimator:hover {background-color: #d4ebff;}#sk-container-id-1 div.sk-parallel-item::after {content: \"\";width: 100%;border-bottom: 1px solid gray;flex-grow: 1;}#sk-container-id-1 div.sk-label:hover label.sk-toggleable__label {background-color: #d4ebff;}#sk-container-id-1 div.sk-serial::before {content: \"\";position: absolute;border-left: 1px solid gray;box-sizing: border-box;top: 0;bottom: 0;left: 50%;z-index: 0;}#sk-container-id-1 div.sk-serial {display: flex;flex-direction: column;align-items: center;background-color: white;padding-right: 0.2em;padding-left: 0.2em;position: relative;}#sk-container-id-1 div.sk-item {position: relative;z-index: 1;}#sk-container-id-1 div.sk-parallel {display: flex;align-items: stretch;justify-content: center;background-color: white;position: relative;}#sk-container-id-1 div.sk-item::before, #sk-container-id-1 div.sk-parallel-item::before {content: \"\";position: absolute;border-left: 1px solid gray;box-sizing: border-box;top: 0;bottom: 0;left: 50%;z-index: -1;}#sk-container-id-1 div.sk-parallel-item {display: flex;flex-direction: column;z-index: 1;position: relative;background-color: white;}#sk-container-id-1 div.sk-parallel-item:first-child::after {align-self: flex-end;width: 50%;}#sk-container-id-1 div.sk-parallel-item:last-child::after {align-self: flex-start;width: 50%;}#sk-container-id-1 div.sk-parallel-item:only-child::after {width: 0;}#sk-container-id-1 div.sk-dashed-wrapped {border: 1px dashed gray;margin: 0 0.4em 0.5em 0.4em;box-sizing: border-box;padding-bottom: 0.4em;background-color: white;}#sk-container-id-1 div.sk-label label {font-family: monospace;font-weight: bold;display: inline-block;line-height: 1.2em;}#sk-container-id-1 div.sk-label-container {text-align: center;}#sk-container-id-1 div.sk-container {/* jupyter's `normalize.less` sets `[hidden] { display: none; }` but bootstrap.min.css set `[hidden] { display: none !important; }` so we also need the `!important` here to be able to override the default hidden behavior on the sphinx rendered scikit-learn.org. See: https://github.com/scikit-learn/scikit-learn/issues/21755 */display: inline-block !important;position: relative;}#sk-container-id-1 div.sk-text-repr-fallback {display: none;}</style><div id=\"sk-container-id-1\" class=\"sk-top-container\"><div class=\"sk-text-repr-fallback\"><pre>Ridge(alpha=0.7)</pre><b>In a Jupyter environment, please rerun this cell to show the HTML representation or trust the notebook. <br />On GitHub, the HTML representation is unable to render, please try loading this page with nbviewer.org.</b></div><div class=\"sk-container\" hidden><div class=\"sk-item\"><div class=\"sk-estimator sk-toggleable\"><input class=\"sk-toggleable__control sk-hidden--visually\" id=\"sk-estimator-id-1\" type=\"checkbox\" checked><label for=\"sk-estimator-id-1\" class=\"sk-toggleable__label sk-toggleable__label-arrow\">Ridge</label><div class=\"sk-toggleable__content\"><pre>Ridge(alpha=0.7)</pre></div></div></div></div></div>"
      ],
      "text/plain": [
       "Ridge(alpha=0.7)"
      ]
     },
     "execution_count": 19,
     "metadata": {},
     "output_type": "execute_result"
    }
   ],
   "source": [
    "# Простая линейная регрессия\n",
    "simple_linear_reg = LinearRegression()\n",
    "simple_linear_reg.fit(X_train_single, y_train)\n",
    "\n",
    "# L1 регуляризация (Lasso)\n",
    "lasso_reg = Lasso(alpha=0.7)\n",
    "lasso_reg.fit(X_train_single, y_train)\n",
    "\n",
    "# L2 регуляризация (Ridge)\n",
    "ridge_reg = Ridge(alpha=0.7)\n",
    "ridge_reg.fit(X_train_single, y_train)"
   ]
  },
  {
   "cell_type": "code",
   "execution_count": 20,
   "id": "1fe41b1a-36a3-417b-8c31-50c6d24869bd",
   "metadata": {},
   "outputs": [],
   "source": [
    "def calculate_metrics(model, X, y_true):\n",
    "    y_pred = model.predict(X)\n",
    "    r2 = r2_score(y_true, y_pred)\n",
    "    mae = mean_absolute_error(y_true, y_pred)\n",
    "    mse = mean_squared_error(y_true, y_pred)\n",
    "    rmse = np.sqrt(mse)\n",
    "    mape = np.mean(np.abs((y_true - y_pred) / y_true)) * 100\n",
    "    return r2, mae, mse, rmse, mape\n",
    "\n",
    "# Вычислить метрики для каждой модели\n",
    "metrics_simple_linear = calculate_metrics(simple_linear_reg, X_test_single, y_test)\n",
    "metrics_lasso = calculate_metrics(lasso_reg, X_test_single, y_test)\n",
    "metrics_ridge = calculate_metrics(ridge_reg, X_test_single, y_test)"
   ]
  },
  {
   "cell_type": "code",
   "execution_count": 21,
   "id": "7dfebc68-a3ba-49a0-8e04-a178f0171dcf",
   "metadata": {},
   "outputs": [
    {
     "name": "stdout",
     "output_type": "stream",
     "text": [
      "MAE: 2938.5808815176524\n",
      "MSE: 14750545.311928816\n",
      "RMSE: 3840.64386684431\n",
      "MAPE: 70.63902511315344\n",
      "R^2: 0.45894858392785454\n"
     ]
    }
   ],
   "source": [
    "print(f'MAE: {metrics_simple_linear[1]}')\n",
    "print(f'MSE: {metrics_simple_linear[2]}')\n",
    "print(f'RMSE: {metrics_simple_linear[3]}')\n",
    "print(f'MAPE: {metrics_simple_linear[4]}')\n",
    "print(f'R^2: {metrics_simple_linear[0]}')"
   ]
  },
  {
   "cell_type": "code",
   "execution_count": 22,
   "id": "b497a137-a236-4c4f-9f25-4259c40161f9",
   "metadata": {},
   "outputs": [
    {
     "name": "stdout",
     "output_type": "stream",
     "text": [
      "MAE: 2938.569749597944\n",
      "MSE: 14750518.396381574\n",
      "RMSE: 3840.6403628017\n",
      "MAPE: 70.63819178720796\n",
      "R^2: 0.45894957119270763\n"
     ]
    }
   ],
   "source": [
    "print(f'MAE: {metrics_lasso[1]}')\n",
    "print(f'MSE: {metrics_lasso[2]}')\n",
    "print(f'RMSE: {metrics_lasso[3]}')\n",
    "print(f'MAPE: {metrics_lasso[4]}')\n",
    "print(f'R^2: {metrics_lasso[0]}')"
   ]
  },
  {
   "cell_type": "code",
   "execution_count": 23,
   "id": "9c6c4e4d-3741-4d68-835e-691a318c7140",
   "metadata": {},
   "outputs": [
    {
     "name": "stdout",
     "output_type": "stream",
     "text": [
      "MAE: 2938.58062973146\n",
      "MSE: 14750544.7029027\n",
      "RMSE: 3840.6437875573283\n",
      "MAPE: 70.6390062646553\n",
      "R^2: 0.45894860626699086\n"
     ]
    }
   ],
   "source": [
    "print(f'MAE: {metrics_ridge[1]}')\n",
    "print(f'MSE: {metrics_ridge[2]}')\n",
    "print(f'RMSE: {metrics_ridge[3]}')\n",
    "print(f'MAPE: {metrics_ridge[4]}')\n",
    "print(f'R^2: {metrics_ridge[0]}')"
   ]
  },
  {
   "cell_type": "markdown",
   "id": "0380136a-0984-43a8-8c69-3ece9c730c43",
   "metadata": {},
   "source": [
    "## Пайплайн"
   ]
  },
  {
   "cell_type": "code",
   "execution_count": 24,
   "id": "0d0da316-602a-453e-9f55-ef6e0c1575f8",
   "metadata": {},
   "outputs": [
    {
     "name": "stdout",
     "output_type": "stream",
     "text": [
      "Model: Linear\n",
      "MAE: 2938.580881517654\n",
      "MSE: 14750545.31192882\n",
      "RMSE: 3840.6438668443107\n",
      "MAPE: 70.63902511315352\n",
      "R^2: 0.4589485839278544\n",
      "\n",
      "\n",
      "Model: Ridge\n",
      "MAE: 2938.5678226108853\n",
      "MSE: 14750513.739375625\n",
      "RMSE: 3840.639756521773\n",
      "MAPE: 70.63804753461108\n",
      "R^2: 0.45894974201213223\n",
      "\n",
      "\n",
      "Model: Lasso\n",
      "MAE: 2938.495175645262\n",
      "MSE: 14750338.645057175\n",
      "RMSE: 3840.616961512457\n",
      "MAPE: 70.63260924517202\n",
      "R^2: 0.45895616448851806\n",
      "\n",
      "\n"
     ]
    }
   ],
   "source": [
    "from sklearn.compose import ColumnTransformer\n",
    "from sklearn.preprocessing import StandardScaler\n",
    "models = [\n",
    "    ('Linear', LinearRegression()),\n",
    "    ('Ridge', Ridge(alpha=0.8)),\n",
    "    ('Lasso', Lasso(alpha=0.8))\n",
    "]\n",
    "\n",
    "pipelines = []\n",
    "\n",
    "for model_name, model in models:\n",
    "    pipeline = Pipeline(steps=[\n",
    "        ('scaler', StandardScaler()),\n",
    "        ('model', model)\n",
    "    ])\n",
    "    pipelines.append((model_name, pipeline))\n",
    "\n",
    "for model_name, pipeline in pipelines:\n",
    "    pipeline.fit(X_train_single, y_train)\n",
    "\n",
    "    metrics_pipe = calculate_metrics(pipeline, X_test_single, y_test)\n",
    "\n",
    "    print(f\"Model: {model_name}\")\n",
    "    print(f'MAE: {metrics_pipe[1]}')\n",
    "    print(f'MSE: {metrics_pipe[2]}')\n",
    "    print(f'RMSE: {metrics_pipe[3]}')\n",
    "    print(f'MAPE: {metrics_pipe[4]}')\n",
    "    print(f'R^2: {metrics_pipe[0]}')\n",
    "    print(\"\\n\")"
   ]
  },
  {
   "cell_type": "markdown",
   "id": "95e100c2-c35a-4f9f-811b-343788795871",
   "metadata": {},
   "source": [
    "### *Самостоятельно реализовать вычисление всех используемых метрик (в виде функций, принимающих два аргумента). Привести в таблице метрики, вычисленные с использование библиотеки Scikit-learn и соответствующими пользовательскими функциями."
   ]
  },
  {
   "cell_type": "code",
   "execution_count": 25,
   "id": "be947f9e-47ca-45cb-80fd-fa8360582ef4",
   "metadata": {},
   "outputs": [],
   "source": [
    "def custom_r2(y_true, y_pred):\n",
    "    y_mean = np.mean(y_true)\n",
    "    ss_tot = np.sum((y_true - y_mean) ** 2)\n",
    "    ss_res = np.sum((y_true - y_pred) ** 2)\n",
    "    r2 = 1 - (ss_res / ss_tot)\n",
    "    return r2\n",
    "\n",
    "def custom_mae(y_true, y_pred):\n",
    "    mae = np.mean(np.abs(y_true - y_pred))\n",
    "    return mae\n",
    "\n",
    "def custom_mse(y_true, y_pred):\n",
    "    mse = np.mean((y_true - y_pred) ** 2)\n",
    "    return mse\n",
    "\n",
    "def custom_rmse(y_true, y_pred):\n",
    "    mse = np.mean((y_true - y_pred) ** 2)\n",
    "    rmse = np.sqrt(mse)\n",
    "    return rmse\n",
    "\n",
    "def custom_mape(y_true, y_pred):\n",
    "    mape = np.mean(np.abs((y_true - y_pred) / y_true)) * 100\n",
    "    return mape"
   ]
  },
  {
   "cell_type": "code",
   "execution_count": 26,
   "id": "5d2b77f9-7533-42a1-b3d2-f7dd2f1ae8f5",
   "metadata": {},
   "outputs": [],
   "source": [
    "# Предположим, что у вас есть модель simple_linear_reg и X_test_single, y_test\n",
    "y_pred = simple_linear_reg.predict(X_test_single)\n",
    "\n",
    "r2_custom = custom_r2(y_test, y_pred)\n",
    "mae_custom = custom_mae(y_test, y_pred)\n",
    "mse_custom = custom_mse(y_test, y_pred)\n",
    "rmse_custom = custom_rmse(y_test, y_pred)\n",
    "mape_custom = custom_mape(y_test, y_pred)\n",
    "\n",
    "custom = [r2_custom, mae_custom, mse_custom, rmse_custom, mape_custom]"
   ]
  },
  {
   "cell_type": "code",
   "execution_count": 27,
   "id": "e1d78930-ac19-4486-a3bb-b66413109a7f",
   "metadata": {},
   "outputs": [],
   "source": [
    "from sklearn.metrics import r2_score, mean_absolute_error, mean_squared_error\n",
    "\n",
    "r2_sklearn = r2_score(y_test, y_pred)\n",
    "mae_sklearn = mean_absolute_error(y_test, y_pred)\n",
    "mse_sklearn = mean_squared_error(y_test, y_pred)\n",
    "rmse_sklearn = np.sqrt(mse_sklearn)"
   ]
  },
  {
   "cell_type": "code",
   "execution_count": 28,
   "id": "b271587e-cbb0-4fab-a6e2-db74927a8683",
   "metadata": {},
   "outputs": [
    {
     "name": "stdout",
     "output_type": "stream",
     "text": [
      "True\n",
      "True\n",
      "True\n",
      "True\n"
     ]
    }
   ],
   "source": [
    "print(r2_custom == r2_sklearn)\n",
    "print(mae_custom == mae_sklearn)\n",
    "print(mse_custom == mse_sklearn)\n",
    "print(rmse_custom == rmse_sklearn)"
   ]
  },
  {
   "cell_type": "markdown",
   "id": "ee4f56ba-0085-4131-bfa6-bcfaab8ef052",
   "metadata": {},
   "source": [
    "### Задание 8"
   ]
  },
  {
   "cell_type": "markdown",
   "id": "a1a71497-629c-4571-9697-e73172ba20e0",
   "metadata": {},
   "source": [
    "в нем нужно выполнить one-hot кодирование и найти метрики уже с ним"
   ]
  },
  {
   "cell_type": "code",
   "execution_count": 29,
   "id": "c7ef44c8-255c-492a-a55c-43b2913ffc9e",
   "metadata": {},
   "outputs": [
    {
     "data": {
      "text/plain": [
       "{'alpha': 0.8}"
      ]
     },
     "execution_count": 29,
     "metadata": {},
     "output_type": "execute_result"
    }
   ],
   "source": [
    "from sklearn.model_selection import GridSearchCV, RandomizedSearchCV\n",
    "import numpy as np\n",
    "# для поиска гиперпараметров мы всегда сначала формируем словарь\n",
    "# ключами словаря являются названия гиперпараметров\n",
    "# значениями - список (или массив numpy) с возможными значениями\n",
    "# параметры описываются в документации к моделям, так что можно и нужно гуглить\n",
    "parameters = {'alpha': np.arange(0, 1, 0.1)}\n",
    "\n",
    "# а теперь пробуем подобрать значение этого гиперпараметра с помощью GridSearchCV\n",
    "# оборачиваем нашу модель в объект GridSearchCV, туда же передаем словарь с параметрами и стартуем обучение\n",
    "ridge_optimal = GridSearchCV(Ridge(), parameters).fit(X_train, y_train)\n",
    "# выводим оптимальные значения параметров\n",
    "ridge_optimal.best_params_"
   ]
  },
  {
   "cell_type": "code",
   "execution_count": 32,
   "id": "6479c47d-341b-4f80-8da0-fede995b3304",
   "metadata": {},
   "outputs": [
    {
     "data": {
      "text/html": [
       "<style>#sk-container-id-3 {color: black;}#sk-container-id-3 pre{padding: 0;}#sk-container-id-3 div.sk-toggleable {background-color: white;}#sk-container-id-3 label.sk-toggleable__label {cursor: pointer;display: block;width: 100%;margin-bottom: 0;padding: 0.3em;box-sizing: border-box;text-align: center;}#sk-container-id-3 label.sk-toggleable__label-arrow:before {content: \"▸\";float: left;margin-right: 0.25em;color: #696969;}#sk-container-id-3 label.sk-toggleable__label-arrow:hover:before {color: black;}#sk-container-id-3 div.sk-estimator:hover label.sk-toggleable__label-arrow:before {color: black;}#sk-container-id-3 div.sk-toggleable__content {max-height: 0;max-width: 0;overflow: hidden;text-align: left;background-color: #f0f8ff;}#sk-container-id-3 div.sk-toggleable__content pre {margin: 0.2em;color: black;border-radius: 0.25em;background-color: #f0f8ff;}#sk-container-id-3 input.sk-toggleable__control:checked~div.sk-toggleable__content {max-height: 200px;max-width: 100%;overflow: auto;}#sk-container-id-3 input.sk-toggleable__control:checked~label.sk-toggleable__label-arrow:before {content: \"▾\";}#sk-container-id-3 div.sk-estimator input.sk-toggleable__control:checked~label.sk-toggleable__label {background-color: #d4ebff;}#sk-container-id-3 div.sk-label input.sk-toggleable__control:checked~label.sk-toggleable__label {background-color: #d4ebff;}#sk-container-id-3 input.sk-hidden--visually {border: 0;clip: rect(1px 1px 1px 1px);clip: rect(1px, 1px, 1px, 1px);height: 1px;margin: -1px;overflow: hidden;padding: 0;position: absolute;width: 1px;}#sk-container-id-3 div.sk-estimator {font-family: monospace;background-color: #f0f8ff;border: 1px dotted black;border-radius: 0.25em;box-sizing: border-box;margin-bottom: 0.5em;}#sk-container-id-3 div.sk-estimator:hover {background-color: #d4ebff;}#sk-container-id-3 div.sk-parallel-item::after {content: \"\";width: 100%;border-bottom: 1px solid gray;flex-grow: 1;}#sk-container-id-3 div.sk-label:hover label.sk-toggleable__label {background-color: #d4ebff;}#sk-container-id-3 div.sk-serial::before {content: \"\";position: absolute;border-left: 1px solid gray;box-sizing: border-box;top: 0;bottom: 0;left: 50%;z-index: 0;}#sk-container-id-3 div.sk-serial {display: flex;flex-direction: column;align-items: center;background-color: white;padding-right: 0.2em;padding-left: 0.2em;position: relative;}#sk-container-id-3 div.sk-item {position: relative;z-index: 1;}#sk-container-id-3 div.sk-parallel {display: flex;align-items: stretch;justify-content: center;background-color: white;position: relative;}#sk-container-id-3 div.sk-item::before, #sk-container-id-3 div.sk-parallel-item::before {content: \"\";position: absolute;border-left: 1px solid gray;box-sizing: border-box;top: 0;bottom: 0;left: 50%;z-index: -1;}#sk-container-id-3 div.sk-parallel-item {display: flex;flex-direction: column;z-index: 1;position: relative;background-color: white;}#sk-container-id-3 div.sk-parallel-item:first-child::after {align-self: flex-end;width: 50%;}#sk-container-id-3 div.sk-parallel-item:last-child::after {align-self: flex-start;width: 50%;}#sk-container-id-3 div.sk-parallel-item:only-child::after {width: 0;}#sk-container-id-3 div.sk-dashed-wrapped {border: 1px dashed gray;margin: 0 0.4em 0.5em 0.4em;box-sizing: border-box;padding-bottom: 0.4em;background-color: white;}#sk-container-id-3 div.sk-label label {font-family: monospace;font-weight: bold;display: inline-block;line-height: 1.2em;}#sk-container-id-3 div.sk-label-container {text-align: center;}#sk-container-id-3 div.sk-container {/* jupyter's `normalize.less` sets `[hidden] { display: none; }` but bootstrap.min.css set `[hidden] { display: none !important; }` so we also need the `!important` here to be able to override the default hidden behavior on the sphinx rendered scikit-learn.org. See: https://github.com/scikit-learn/scikit-learn/issues/21755 */display: inline-block !important;position: relative;}#sk-container-id-3 div.sk-text-repr-fallback {display: none;}</style><div id=\"sk-container-id-3\" class=\"sk-top-container\"><div class=\"sk-text-repr-fallback\"><pre>ElasticNet(alpha=0.8)</pre><b>In a Jupyter environment, please rerun this cell to show the HTML representation or trust the notebook. <br />On GitHub, the HTML representation is unable to render, please try loading this page with nbviewer.org.</b></div><div class=\"sk-container\" hidden><div class=\"sk-item\"><div class=\"sk-estimator sk-toggleable\"><input class=\"sk-toggleable__control sk-hidden--visually\" id=\"sk-estimator-id-3\" type=\"checkbox\" checked><label for=\"sk-estimator-id-3\" class=\"sk-toggleable__label sk-toggleable__label-arrow\">ElasticNet</label><div class=\"sk-toggleable__content\"><pre>ElasticNet(alpha=0.8)</pre></div></div></div></div></div>"
      ],
      "text/plain": [
       "ElasticNet(alpha=0.8)"
      ]
     },
     "execution_count": 32,
     "metadata": {},
     "output_type": "execute_result"
    }
   ],
   "source": [
    "from sklearn.linear_model import ElasticNet\n",
    "# L1 регуляризация (Lasso)\n",
    "lasso_reg = Lasso(alpha=0.8)\n",
    "lasso_reg.fit(X_train, y_train)\n",
    "\n",
    "# L2 регуляризация (Ridge)\n",
    "ridge_reg = Ridge(alpha=0.8)\n",
    "ridge_reg.fit(X_train, y_train)\n",
    "\n",
    "elasticnet_reg = ElasticNet(alpha=0.8)\n",
    "elasticnet_reg.fit(X_train, y_train)"
   ]
  },
  {
   "cell_type": "code",
   "execution_count": 33,
   "id": "4008d2c9-4d6c-4b06-a021-272bf2ce3fb4",
   "metadata": {},
   "outputs": [],
   "source": [
    "metrics_lasso = calculate_metrics(lasso_reg, X_test, y_test)\n",
    "metrics_ridge = calculate_metrics(ridge_reg, X_test, y_test)\n",
    "elasticnet_reg = calculate_metrics(elasticnet_reg, X_test, y_test)"
   ]
  },
  {
   "cell_type": "code",
   "execution_count": 34,
   "id": "312a985e-a3fa-4e36-917d-e96ce4d91e7a",
   "metadata": {},
   "outputs": [
    {
     "name": "stdout",
     "output_type": "stream",
     "text": [
      "MAE: 1821.1104538175578\n",
      "MSE: 7247491.951771156\n",
      "RMSE: 2692.1166304176268\n",
      "MAPE: 47.48501475899927\n",
      "R^2: 0.7341613004431693\n"
     ]
    }
   ],
   "source": [
    "print(f'MAE: {metrics_lasso[1]}')\n",
    "print(f'MSE: {metrics_lasso[2]}')\n",
    "print(f'RMSE: {metrics_lasso[3]}')\n",
    "print(f'MAPE: {metrics_lasso[4]}')\n",
    "print(f'R^2: {metrics_lasso[0]}')"
   ]
  },
  {
   "cell_type": "code",
   "execution_count": 35,
   "id": "a2c09019-6cbb-49ac-baa7-ed1db22fd972",
   "metadata": {},
   "outputs": [
    {
     "name": "stdout",
     "output_type": "stream",
     "text": [
      "MAE: 1780.636747051378\n",
      "MSE: 6924801.634049665\n",
      "RMSE: 2631.501783022323\n",
      "MAPE: 47.318629431913834\n",
      "R^2: 0.7459976122312353\n"
     ]
    }
   ],
   "source": [
    "print(f'MAE: {metrics_ridge[1]}')\n",
    "print(f'MSE: {metrics_ridge[2]}')\n",
    "print(f'RMSE: {metrics_ridge[3]}')\n",
    "print(f'MAPE: {metrics_ridge[4]}')\n",
    "print(f'R^2: {metrics_ridge[0]}')"
   ]
  },
  {
   "cell_type": "code",
   "execution_count": 36,
   "id": "e470321d-bdcf-46c7-8d5b-ba17d8792e00",
   "metadata": {},
   "outputs": [
    {
     "name": "stdout",
     "output_type": "stream",
     "text": [
      "MAE: 2284.1974858524413\n",
      "MSE: 9993920.055503707\n",
      "RMSE: 3161.3161903713\n",
      "MAPE: 61.61432856747342\n",
      "R^2: 0.633422054317595\n"
     ]
    }
   ],
   "source": [
    "print(f'MAE: {elasticnet_reg[1]}')\n",
    "print(f'MSE: {elasticnet_reg[2]}')\n",
    "print(f'RMSE: {elasticnet_reg[3]}')\n",
    "print(f'MAPE: {elasticnet_reg[4]}')\n",
    "print(f'R^2: {elasticnet_reg[0]}')"
   ]
  }
 ],
 "metadata": {
  "kernelspec": {
   "display_name": "Python 3 (ipykernel)",
   "language": "python",
   "name": "python3"
  },
  "language_info": {
   "codemirror_mode": {
    "name": "ipython",
    "version": 3
   },
   "file_extension": ".py",
   "mimetype": "text/x-python",
   "name": "python",
   "nbconvert_exporter": "python",
   "pygments_lexer": "ipython3",
   "version": "3.11.5"
  }
 },
 "nbformat": 4,
 "nbformat_minor": 5
}
