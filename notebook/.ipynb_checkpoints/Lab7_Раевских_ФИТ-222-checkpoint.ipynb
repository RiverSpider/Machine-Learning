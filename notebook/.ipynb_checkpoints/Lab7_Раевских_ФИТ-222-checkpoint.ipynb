{
 "cells": [
  {
   "cell_type": "markdown",
   "id": "6e03287c-c859-4650-973a-92f1ce816c40",
   "metadata": {},
   "source": [
    "Лабораторная работа №7. \"Полносвязные нейронные сети (многослойный персептрон). Решение задач регрессии и классификации\"\n",
    "\n",
    "Задание №1.\n",
    "Решить задачи регрессии и классификации на данных в соответствии с Вашим индивидуальным вариантом (см. Лаб.работы №3, 4), используя полносвязные НС; реализовать НС посредством API Keras и фреймворка TensorFlow; оценить качество полученных моделей с помощью метрик.\n",
    "\n",
    "Задание №2.\n",
    "Разработать многослойный персептрон (MLP), с помощью которого можно решать задачи регрессии и классификации. Предусмотреть возможность использования таких функции активации, как sigmoid, tanh и relu; также предусмотреть возможность указать, сколько слоев нужно, сколько на каждом из них нейронов и какую функцию активации должен иметь слой. Реализовать обучение MLP методом обратного распространения ошибки; самостоятельно найти производные функций sigmoid, tanh и relu; реализовать классический градиентный спуск с возможностью указания шага.\n",
    "\n",
    "\n",
    "Дополнительное Задание №3*.\n",
    "1. Самостоятельно изучить отличия работы оптимизаторов Adam и RMSProp от классического градиентного спуска.\n",
    "2. Реализовать градиентный спуск с использованием указанных оптимизаторов; предусмотрите возможность использования реализованных вами оптими-заторов в Вашем персептроне."
   ]
  },
  {
   "cell_type": "code",
   "execution_count": 1,
   "id": "e0be2f7a-5bbb-46ad-a6ad-99f9e3bbc29f",
   "metadata": {},
   "outputs": [],
   "source": [
    "import pandas as pd\n",
    "import matplotlib.pyplot as plt\n",
    "import numpy as np\n",
    "import seaborn as sns\n",
    "import warnings\n",
    "import os"
   ]
  },
  {
   "cell_type": "code",
   "execution_count": 2,
   "id": "615615fa-6fb3-4a09-8eb8-1b29330188a9",
   "metadata": {},
   "outputs": [],
   "source": [
    "os.chdir('../data')\n",
    "#Вариант 1\n",
    "df_regression = pd.read_csv('lab3.csv')\n",
    "df_classifier = pd.read_csv('lab4.csv')"
   ]
  },
  {
   "cell_type": "code",
   "execution_count": 3,
   "id": "9d739913-7796-4d0c-844b-ace3e2e18fc4",
   "metadata": {},
   "outputs": [],
   "source": [
    "from sklearn.preprocessing import StandardScaler\n",
    "\n",
    "scaler = StandardScaler()\n",
    "\n",
    "numeric_features_classifier = ['time','length'] \n",
    "df_classifier[numeric_features_classifier] = scaler.fit_transform(df_classifier[numeric_features_classifier])"
   ]
  },
  {
   "cell_type": "code",
   "execution_count": 4,
   "id": "1e6ccb60-242e-45d1-8930-0a945fae897e",
   "metadata": {},
   "outputs": [],
   "source": [
    "from sklearn.model_selection import train_test_split\n",
    "y_classifier = df_classifier[\"delay\"]\n",
    "X_classifier = df_classifier.drop([\"delay\"], axis=1)\n",
    "X_classifier, _, y_classifier, _ = train_test_split(X_classifier, y_classifier, test_size=0.9, random_state=42)\n",
    "\n",
    "\n",
    "y_regression = df_regression[\"price(euro)\"]\n",
    "X_regression = df_regression.drop([\"price(euro)\"], axis=1)"
   ]
  },
  {
   "cell_type": "code",
   "execution_count": 5,
   "id": "a6a95915-41e8-4f40-9f8e-9f840c53c5f4",
   "metadata": {},
   "outputs": [],
   "source": [
    "from imblearn.under_sampling import NearMiss\n",
    "nm = NearMiss()\n",
    "X_classifier, y_classifier = nm.fit_resample(X_classifier, y_classifier.ravel())"
   ]
  },
  {
   "cell_type": "code",
   "execution_count": 6,
   "id": "f57e5a94-1905-466d-bdda-fd691d23003c",
   "metadata": {},
   "outputs": [],
   "source": [
    "X_train_classifier, X_test_classifier, y_train_classifier, y_test_classifier = train_test_split(X_classifier, y_classifier, test_size=0.2)\n",
    "X_train_regression, X_test_regression, y_train_regression, y_test_regression = train_test_split(X_regression, y_regression, test_size=0.2)"
   ]
  },
  {
   "cell_type": "code",
   "execution_count": 7,
   "id": "6decf4f7-f44c-4984-9bf5-aa6c76f6f9c9",
   "metadata": {},
   "outputs": [],
   "source": [
    "# для оценки качества решения задачи регрессии\n",
    "from sklearn.metrics import mean_squared_error, mean_absolute_error\n",
    "# для оценки качества решения задачи классификации\n",
    "from sklearn.metrics import confusion_matrix, classification_report"
   ]
  },
  {
   "cell_type": "code",
   "execution_count": 8,
   "id": "caeb8452-3858-4e15-9f0b-d74a97441236",
   "metadata": {},
   "outputs": [],
   "source": [
    "import tensorflow as tf\n",
    "import numpy as np"
   ]
  },
  {
   "cell_type": "code",
   "execution_count": 9,
   "id": "c2ea0cf2-42e4-4a50-9e9e-f1df3eb62e9b",
   "metadata": {},
   "outputs": [],
   "source": [
    "### Регрессия"
   ]
  },
  {
   "cell_type": "code",
   "execution_count": 10,
   "id": "646187f6-0c37-4b24-a293-37e79f6cf271",
   "metadata": {},
   "outputs": [],
   "source": [
    "# создаем модель, как набор последовательных слоев\n",
    "model_regression = tf.keras.Sequential(\n",
    "    [\n",
    "        # Dense - полносвязный слой (каждый нейрон следующего слоя связан со всеми нейронами предыдущего)\n",
    "        tf.keras.layers.Dense(64, activation=\"relu\", input_shape=(939,)),\n",
    "        # на втором скрытом слое будет 32 нейрона\n",
    "        tf.keras.layers.Dense(32, activation=\"linear\"),\n",
    "        # Dropout позволяет внести фактор случайности - при обучении часть нейронов будет отключаться\n",
    "        # каждый нейрон, в данном случае, будет отключаться с вероятностью 0.1\n",
    "        tf.keras.layers.Dropout(0.1),\n",
    "        tf.keras.layers.Dense(16, activation=\"relu\"),\n",
    "        tf.keras.layers.Dropout(0.1),\n",
    "        # на выходе один нейрон, функция активации не применяется\n",
    "        tf.keras.layers.Dense(1, activation=\"linear\"),\n",
    "    ]\n",
    ")"
   ]
  },
  {
   "cell_type": "code",
   "execution_count": 11,
   "id": "6d242b45-cc52-4428-8dd6-764bb6fe3244",
   "metadata": {},
   "outputs": [
    {
     "name": "stdout",
     "output_type": "stream",
     "text": [
      "Model: \"sequential\"\n",
      "_________________________________________________________________\n",
      " Layer (type)                Output Shape              Param #   \n",
      "=================================================================\n",
      " dense (Dense)               (None, 64)                60160     \n",
      "                                                                 \n",
      " dense_1 (Dense)             (None, 32)                2080      \n",
      "                                                                 \n",
      " dropout (Dropout)           (None, 32)                0         \n",
      "                                                                 \n",
      " dense_2 (Dense)             (None, 16)                528       \n",
      "                                                                 \n",
      " dropout_1 (Dropout)         (None, 16)                0         \n",
      "                                                                 \n",
      " dense_3 (Dense)             (None, 1)                 17        \n",
      "                                                                 \n",
      "=================================================================\n",
      "Total params: 62785 (245.25 KB)\n",
      "Trainable params: 62785 (245.25 KB)\n",
      "Non-trainable params: 0 (0.00 Byte)\n",
      "_________________________________________________________________\n"
     ]
    }
   ],
   "source": [
    "# посмотрим, какая сеть у нас получилась\n",
    "model_regression.summary()"
   ]
  },
  {
   "cell_type": "code",
   "execution_count": 12,
   "id": "d1ade7d3-3ad9-4980-a07b-0aab615ed296",
   "metadata": {},
   "outputs": [],
   "source": [
    "# компилируем\n",
    "model_regression.compile(optimizer=tf.keras.optimizers.Adam(learning_rate=0.005), loss=\"mse\")"
   ]
  },
  {
   "cell_type": "code",
   "execution_count": 13,
   "id": "298eddab-de08-400c-ba64-2c0768802e8a",
   "metadata": {},
   "outputs": [],
   "source": [
    "X_train_regression = X_train_regression.astype('float32')\n",
    "y_train_regression = y_train_regression.astype('float32')"
   ]
  },
  {
   "cell_type": "code",
   "execution_count": 14,
   "id": "9cf4b3e6-962a-4701-baf5-4c00c407b30f",
   "metadata": {},
   "outputs": [
    {
     "name": "stdout",
     "output_type": "stream",
     "text": [
      "Epoch 1/50\n",
      "752/752 [==============================] - 2s 2ms/step - loss: 27553406.0000\n",
      "Epoch 2/50\n",
      "752/752 [==============================] - 1s 2ms/step - loss: 23158076.0000\n",
      "Epoch 3/50\n",
      "752/752 [==============================] - 1s 2ms/step - loss: 22887304.0000\n",
      "Epoch 4/50\n",
      "752/752 [==============================] - 1s 1ms/step - loss: 22827312.0000\n",
      "Epoch 5/50\n",
      "752/752 [==============================] - 1s 1ms/step - loss: 21962486.0000\n",
      "Epoch 6/50\n",
      "752/752 [==============================] - 1s 2ms/step - loss: 22472736.0000\n",
      "Epoch 7/50\n",
      "752/752 [==============================] - 1s 1ms/step - loss: 22385718.0000\n",
      "Epoch 8/50\n",
      "752/752 [==============================] - 1s 1ms/step - loss: 21987412.0000\n",
      "Epoch 9/50\n",
      "752/752 [==============================] - 1s 1ms/step - loss: 21993076.0000\n",
      "Epoch 10/50\n",
      "752/752 [==============================] - 1s 1ms/step - loss: 21975448.0000\n",
      "Epoch 11/50\n",
      "752/752 [==============================] - 1s 1ms/step - loss: 21840100.0000\n",
      "Epoch 12/50\n",
      "752/752 [==============================] - 1s 1ms/step - loss: 21838156.0000\n",
      "Epoch 13/50\n",
      "752/752 [==============================] - 1s 1ms/step - loss: 21764036.0000\n",
      "Epoch 14/50\n",
      "752/752 [==============================] - 1s 1ms/step - loss: 21545330.0000\n",
      "Epoch 15/50\n",
      "752/752 [==============================] - 1s 2ms/step - loss: 21591662.0000\n",
      "Epoch 16/50\n",
      "752/752 [==============================] - 1s 2ms/step - loss: 21324588.0000\n",
      "Epoch 17/50\n",
      "752/752 [==============================] - 1s 2ms/step - loss: 21148232.0000\n",
      "Epoch 18/50\n",
      "752/752 [==============================] - 1s 2ms/step - loss: 20920856.0000\n",
      "Epoch 19/50\n",
      "752/752 [==============================] - 1s 2ms/step - loss: 20988586.0000\n",
      "Epoch 20/50\n",
      "752/752 [==============================] - 1s 2ms/step - loss: 20715994.0000\n",
      "Epoch 21/50\n",
      "752/752 [==============================] - 1s 2ms/step - loss: 20583078.0000\n",
      "Epoch 22/50\n",
      "752/752 [==============================] - 1s 2ms/step - loss: 20480010.0000\n",
      "Epoch 23/50\n",
      "752/752 [==============================] - 1s 2ms/step - loss: 20700154.0000\n",
      "Epoch 24/50\n",
      "752/752 [==============================] - 1s 2ms/step - loss: 20148148.0000\n",
      "Epoch 25/50\n",
      "752/752 [==============================] - 1s 2ms/step - loss: 20392904.0000\n",
      "Epoch 26/50\n",
      "752/752 [==============================] - 1s 1ms/step - loss: 20468050.0000\n",
      "Epoch 27/50\n",
      "752/752 [==============================] - 1s 1ms/step - loss: 20054390.0000\n",
      "Epoch 28/50\n",
      "752/752 [==============================] - 1s 1ms/step - loss: 19996748.0000\n",
      "Epoch 29/50\n",
      "752/752 [==============================] - 1s 1ms/step - loss: 20118982.0000\n",
      "Epoch 30/50\n",
      "752/752 [==============================] - 1s 2ms/step - loss: 19885046.0000\n",
      "Epoch 31/50\n",
      "752/752 [==============================] - 1s 2ms/step - loss: 19732302.0000\n",
      "Epoch 32/50\n",
      "752/752 [==============================] - 1s 2ms/step - loss: 19803300.0000\n",
      "Epoch 33/50\n",
      "752/752 [==============================] - 1s 2ms/step - loss: 19434488.0000\n",
      "Epoch 34/50\n",
      "752/752 [==============================] - 1s 1ms/step - loss: 19530910.0000\n",
      "Epoch 35/50\n",
      "752/752 [==============================] - 1s 2ms/step - loss: 19242664.0000\n",
      "Epoch 36/50\n",
      "752/752 [==============================] - 1s 2ms/step - loss: 19571294.0000\n",
      "Epoch 37/50\n",
      "752/752 [==============================] - 1s 1ms/step - loss: 19486772.0000\n",
      "Epoch 38/50\n",
      "752/752 [==============================] - 1s 1ms/step - loss: 19405768.0000\n",
      "Epoch 39/50\n",
      "752/752 [==============================] - 1s 1ms/step - loss: 19034024.0000\n",
      "Epoch 40/50\n",
      "752/752 [==============================] - 1s 2ms/step - loss: 19005444.0000\n",
      "Epoch 41/50\n",
      "752/752 [==============================] - 1s 1ms/step - loss: 18978220.0000\n",
      "Epoch 42/50\n",
      "752/752 [==============================] - 1s 1ms/step - loss: 18637974.0000\n",
      "Epoch 43/50\n",
      "752/752 [==============================] - 1s 1ms/step - loss: 19234154.0000\n",
      "Epoch 44/50\n",
      "752/752 [==============================] - 1s 1ms/step - loss: 18453362.0000\n",
      "Epoch 45/50\n",
      "752/752 [==============================] - 1s 1ms/step - loss: 18703936.0000\n",
      "Epoch 46/50\n",
      "752/752 [==============================] - 1s 1ms/step - loss: 18627294.0000\n",
      "Epoch 47/50\n",
      "752/752 [==============================] - 1s 1ms/step - loss: 17887420.0000\n",
      "Epoch 48/50\n",
      "752/752 [==============================] - 1s 1ms/step - loss: 18017500.0000\n",
      "Epoch 49/50\n",
      "752/752 [==============================] - 1s 1ms/step - loss: 17388340.0000\n",
      "Epoch 50/50\n",
      "752/752 [==============================] - 1s 1ms/step - loss: 16772870.0000\n"
     ]
    },
    {
     "data": {
      "text/plain": [
       "<keras.src.callbacks.History at 0x273067bd690>"
      ]
     },
     "execution_count": 14,
     "metadata": {},
     "output_type": "execute_result"
    }
   ],
   "source": [
    "# обучаем, 10 эпох означает 10 проходов по обучающей выборке\n",
    "model_regression.fit(X_train_regression, y_train_regression, epochs=50)"
   ]
  },
  {
   "cell_type": "code",
   "execution_count": 15,
   "id": "30bb8011-978b-49c0-8789-6ca98728ae06",
   "metadata": {},
   "outputs": [],
   "source": [
    "X_test_regression = X_train_regression.astype('float32')\n",
    "y_test_regression = y_train_regression.astype('float32')"
   ]
  },
  {
   "cell_type": "code",
   "execution_count": 16,
   "id": "590d2263-33be-4159-9e93-eff2ac30b365",
   "metadata": {},
   "outputs": [
    {
     "name": "stdout",
     "output_type": "stream",
     "text": [
      "752/752 [==============================] - 1s 794us/step\n"
     ]
    }
   ],
   "source": [
    "y_pred_regression = model_regression.predict(X_test_regression)"
   ]
  },
  {
   "cell_type": "code",
   "execution_count": 17,
   "id": "2ee5a393-6645-43c4-8103-11fb33611f37",
   "metadata": {},
   "outputs": [
    {
     "name": "stdout",
     "output_type": "stream",
     "text": [
      "2862.4504\n",
      "14961964.0\n",
      "0.45849290495008543\n"
     ]
    }
   ],
   "source": [
    "from sklearn.metrics import r2_score\n",
    "# оцениваем качество с помощью метрик\n",
    "print(mean_absolute_error(y_test_regression, y_pred_regression))\n",
    "print(mean_squared_error(y_test_regression, y_pred_regression))\n",
    "print(r2_score(y_test_regression, y_pred_regression))"
   ]
  },
  {
   "cell_type": "code",
   "execution_count": 18,
   "id": "ece31993-21e7-441f-ad8f-1c29827c5698",
   "metadata": {},
   "outputs": [],
   "source": [
    "### Бинарная классификация"
   ]
  },
  {
   "cell_type": "code",
   "execution_count": 19,
   "id": "4beebfb5-9887-46f7-8ab9-8f3a5fca2bc3",
   "metadata": {},
   "outputs": [],
   "source": [
    "model_classification = tf.keras.Sequential(\n",
    "    [\n",
    "        tf.keras.layers.Dense(64, activation=\"relu\", input_shape=(939,)),\n",
    "        tf.keras.layers.Dense(128, activation=\"relu\"),\n",
    "        tf.keras.layers.Dropout(0.05),\n",
    "        tf.keras.layers.Dense(64, activation=\"relu\"),\n",
    "        tf.keras.layers.Dense(32, activation=\"relu\"),\n",
    "        tf.keras.layers.Dense(16, activation=\"relu\"),\n",
    "        # используем 1 нейрон и sigmoid\n",
    "        tf.keras.layers.Dense(1, activation=\"sigmoid\"),\n",
    "    ]\n",
    ")"
   ]
  },
  {
   "cell_type": "code",
   "execution_count": 20,
   "id": "1efb3060-8772-43eb-8aef-cd34a771e3d3",
   "metadata": {},
   "outputs": [],
   "source": [
    "X_train_classifier = X_train_regression.astype('float32')\n",
    "y_train_classifier = y_train_regression.astype('float32')"
   ]
  },
  {
   "cell_type": "code",
   "execution_count": 23,
   "id": "4806268b-98f6-4091-ba8a-20056cb89c83",
   "metadata": {},
   "outputs": [
    {
     "data": {
      "text/plain": [
       "<keras.src.callbacks.History at 0x27300b1c810>"
      ]
     },
     "execution_count": 23,
     "metadata": {},
     "output_type": "execute_result"
    }
   ],
   "source": [
    "# в качестве функции активации используется бинарная  кроссэнтропия\n",
    "model_classification.compile(optimizer=tf.keras.optimizers.Adam(learning_rate=0.001), loss=\"mse\")\n",
    "# verbose=None - не будет логов\n",
    "model_classification.fit(X_train_classifier, y_train_classifier, epochs=100, verbose=None)"
   ]
  },
  {
   "cell_type": "code",
   "execution_count": 24,
   "id": "3532da2b-fdf5-46a0-a55e-e010cb25eb83",
   "metadata": {},
   "outputs": [],
   "source": [
    "X_test_classifier = X_train_regression.astype('float32')\n",
    "y_test_classifier = y_train_regression.astype('float32')"
   ]
  },
  {
   "cell_type": "code",
   "execution_count": 25,
   "id": "c8299cfa-8666-48cc-98d8-e68fc392c7fa",
   "metadata": {},
   "outputs": [
    {
     "ename": "AxisError",
     "evalue": "axis 1 is out of bounds for array of dimension 1",
     "output_type": "error",
     "traceback": [
      "\u001b[1;31m---------------------------------------------------------------------------\u001b[0m",
      "\u001b[1;31mAxisError\u001b[0m                                 Traceback (most recent call last)",
      "Cell \u001b[1;32mIn[25], line 3\u001b[0m\n\u001b[0;32m      1\u001b[0m \u001b[38;5;66;03m# Предсказание на тестовых данных\u001b[39;00m\n\u001b[0;32m      2\u001b[0m y_pred_classifier \u001b[38;5;241m=\u001b[39m [np\u001b[38;5;241m.\u001b[39margmax(pred) \u001b[38;5;28;01mfor\u001b[39;00m pred \u001b[38;5;129;01min\u001b[39;00m model_classification\u001b[38;5;241m.\u001b[39mpredict(X_test_classifier, verbose\u001b[38;5;241m=\u001b[39m\u001b[38;5;28;01mNone\u001b[39;00m)]\n\u001b[1;32m----> 3\u001b[0m y_pred_classes \u001b[38;5;241m=\u001b[39m \u001b[43mnp\u001b[49m\u001b[38;5;241;43m.\u001b[39;49m\u001b[43margmax\u001b[49m\u001b[43m(\u001b[49m\u001b[43my_pred_classifier\u001b[49m\u001b[43m,\u001b[49m\u001b[43m \u001b[49m\u001b[43maxis\u001b[49m\u001b[38;5;241;43m=\u001b[39;49m\u001b[38;5;241;43m1\u001b[39;49m\u001b[43m)\u001b[49m\n",
      "File \u001b[1;32m~\\Desktop\\ML\\venv\\Lib\\site-packages\\numpy\\core\\fromnumeric.py:1229\u001b[0m, in \u001b[0;36margmax\u001b[1;34m(a, axis, out, keepdims)\u001b[0m\n\u001b[0;32m   1142\u001b[0m \u001b[38;5;250m\u001b[39m\u001b[38;5;124;03m\"\"\"\u001b[39;00m\n\u001b[0;32m   1143\u001b[0m \u001b[38;5;124;03mReturns the indices of the maximum values along an axis.\u001b[39;00m\n\u001b[0;32m   1144\u001b[0m \n\u001b[1;32m   (...)\u001b[0m\n\u001b[0;32m   1226\u001b[0m \u001b[38;5;124;03m(2, 1, 4)\u001b[39;00m\n\u001b[0;32m   1227\u001b[0m \u001b[38;5;124;03m\"\"\"\u001b[39;00m\n\u001b[0;32m   1228\u001b[0m kwds \u001b[38;5;241m=\u001b[39m {\u001b[38;5;124m'\u001b[39m\u001b[38;5;124mkeepdims\u001b[39m\u001b[38;5;124m'\u001b[39m: keepdims} \u001b[38;5;28;01mif\u001b[39;00m keepdims \u001b[38;5;129;01mis\u001b[39;00m \u001b[38;5;129;01mnot\u001b[39;00m np\u001b[38;5;241m.\u001b[39m_NoValue \u001b[38;5;28;01melse\u001b[39;00m {}\n\u001b[1;32m-> 1229\u001b[0m \u001b[38;5;28;01mreturn\u001b[39;00m \u001b[43m_wrapfunc\u001b[49m\u001b[43m(\u001b[49m\u001b[43ma\u001b[49m\u001b[43m,\u001b[49m\u001b[43m \u001b[49m\u001b[38;5;124;43m'\u001b[39;49m\u001b[38;5;124;43margmax\u001b[39;49m\u001b[38;5;124;43m'\u001b[39;49m\u001b[43m,\u001b[49m\u001b[43m \u001b[49m\u001b[43maxis\u001b[49m\u001b[38;5;241;43m=\u001b[39;49m\u001b[43maxis\u001b[49m\u001b[43m,\u001b[49m\u001b[43m \u001b[49m\u001b[43mout\u001b[49m\u001b[38;5;241;43m=\u001b[39;49m\u001b[43mout\u001b[49m\u001b[43m,\u001b[49m\u001b[43m \u001b[49m\u001b[38;5;241;43m*\u001b[39;49m\u001b[38;5;241;43m*\u001b[39;49m\u001b[43mkwds\u001b[49m\u001b[43m)\u001b[49m\n",
      "File \u001b[1;32m~\\Desktop\\ML\\venv\\Lib\\site-packages\\numpy\\core\\fromnumeric.py:56\u001b[0m, in \u001b[0;36m_wrapfunc\u001b[1;34m(obj, method, *args, **kwds)\u001b[0m\n\u001b[0;32m     54\u001b[0m bound \u001b[38;5;241m=\u001b[39m \u001b[38;5;28mgetattr\u001b[39m(obj, method, \u001b[38;5;28;01mNone\u001b[39;00m)\n\u001b[0;32m     55\u001b[0m \u001b[38;5;28;01mif\u001b[39;00m bound \u001b[38;5;129;01mis\u001b[39;00m \u001b[38;5;28;01mNone\u001b[39;00m:\n\u001b[1;32m---> 56\u001b[0m     \u001b[38;5;28;01mreturn\u001b[39;00m \u001b[43m_wrapit\u001b[49m\u001b[43m(\u001b[49m\u001b[43mobj\u001b[49m\u001b[43m,\u001b[49m\u001b[43m \u001b[49m\u001b[43mmethod\u001b[49m\u001b[43m,\u001b[49m\u001b[43m \u001b[49m\u001b[38;5;241;43m*\u001b[39;49m\u001b[43margs\u001b[49m\u001b[43m,\u001b[49m\u001b[43m \u001b[49m\u001b[38;5;241;43m*\u001b[39;49m\u001b[38;5;241;43m*\u001b[39;49m\u001b[43mkwds\u001b[49m\u001b[43m)\u001b[49m\n\u001b[0;32m     58\u001b[0m \u001b[38;5;28;01mtry\u001b[39;00m:\n\u001b[0;32m     59\u001b[0m     \u001b[38;5;28;01mreturn\u001b[39;00m bound(\u001b[38;5;241m*\u001b[39margs, \u001b[38;5;241m*\u001b[39m\u001b[38;5;241m*\u001b[39mkwds)\n",
      "File \u001b[1;32m~\\Desktop\\ML\\venv\\Lib\\site-packages\\numpy\\core\\fromnumeric.py:45\u001b[0m, in \u001b[0;36m_wrapit\u001b[1;34m(obj, method, *args, **kwds)\u001b[0m\n\u001b[0;32m     43\u001b[0m \u001b[38;5;28;01mexcept\u001b[39;00m \u001b[38;5;167;01mAttributeError\u001b[39;00m:\n\u001b[0;32m     44\u001b[0m     wrap \u001b[38;5;241m=\u001b[39m \u001b[38;5;28;01mNone\u001b[39;00m\n\u001b[1;32m---> 45\u001b[0m result \u001b[38;5;241m=\u001b[39m \u001b[38;5;28;43mgetattr\u001b[39;49m\u001b[43m(\u001b[49m\u001b[43masarray\u001b[49m\u001b[43m(\u001b[49m\u001b[43mobj\u001b[49m\u001b[43m)\u001b[49m\u001b[43m,\u001b[49m\u001b[43m \u001b[49m\u001b[43mmethod\u001b[49m\u001b[43m)\u001b[49m\u001b[43m(\u001b[49m\u001b[38;5;241;43m*\u001b[39;49m\u001b[43margs\u001b[49m\u001b[43m,\u001b[49m\u001b[43m \u001b[49m\u001b[38;5;241;43m*\u001b[39;49m\u001b[38;5;241;43m*\u001b[39;49m\u001b[43mkwds\u001b[49m\u001b[43m)\u001b[49m\n\u001b[0;32m     46\u001b[0m \u001b[38;5;28;01mif\u001b[39;00m wrap:\n\u001b[0;32m     47\u001b[0m     \u001b[38;5;28;01mif\u001b[39;00m \u001b[38;5;129;01mnot\u001b[39;00m \u001b[38;5;28misinstance\u001b[39m(result, mu\u001b[38;5;241m.\u001b[39mndarray):\n",
      "\u001b[1;31mAxisError\u001b[0m: axis 1 is out of bounds for array of dimension 1"
     ]
    }
   ],
   "source": [
    "# Предсказание на тестовых данных\n",
    "y_pred_classifier = [np.argmax(pred) for pred in model_classification.predict(X_test_classifier, verbose=None)]\n",
    "y_pred_classes = np.argmax(y_pred_classifier, axis=1)"
   ]
  },
  {
   "cell_type": "code",
   "execution_count": null,
   "id": "a5558d69-6bce-43cb-854c-e1b920bfa90d",
   "metadata": {},
   "outputs": [],
   "source": [
    "from sklearn.metrics import accuracy_score\n",
    "accuracy = accuracy_score(y_test_classifier, y_pred_classifier)\n",
    "print(\"Accuracy:\", accuracy)"
   ]
  },
  {
   "cell_type": "code",
   "execution_count": null,
   "id": "e7698d98-daee-4927-842d-64bd62cbf84b",
   "metadata": {},
   "outputs": [],
   "source": [
    "print(classification_report(y_test_classifier, y_pred_classifier, zero_division=0))\n",
    "print(confusion_matrix(y_test_classifier, y_pred_classifier))"
   ]
  },
  {
   "cell_type": "code",
   "execution_count": null,
   "id": "de8d7fe3-c399-47fa-a89a-1a4a1f6331ff",
   "metadata": {},
   "outputs": [],
   "source": []
  }
 ],
 "metadata": {
  "kernelspec": {
   "display_name": "Python 3 (ipykernel)",
   "language": "python",
   "name": "python3"
  },
  "language_info": {
   "codemirror_mode": {
    "name": "ipython",
    "version": 3
   },
   "file_extension": ".py",
   "mimetype": "text/x-python",
   "name": "python",
   "nbconvert_exporter": "python",
   "pygments_lexer": "ipython3",
   "version": "3.11.5"
  }
 },
 "nbformat": 4,
 "nbformat_minor": 5
}
