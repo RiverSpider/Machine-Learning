{
 "cells": [
  {
   "cell_type": "code",
   "execution_count": 1,
   "id": "3eda5b12-8146-403a-a790-954cb5fd00c6",
   "metadata": {},
   "outputs": [],
   "source": [
    "def gradient_descent(X, y, weights, learning_rate, iterations):\n",
    "    m = len(y)\n",
    "    cost_history = []\n",
    "\n",
    "    for i in range(iterations):\n",
    "        # Вычисление предсказанных значений\n",
    "        predictions = np.dot(X, weights)\n",
    "        \n",
    "        # Вычисление ошибки предсказания\n",
    "        error = predictions - y\n",
    "        \n",
    "        # Вычисление градиента\n",
    "        gradient = (1/m) * np.dot(X.T, error)\n",
    "        \n",
    "        # Обновление весов с учетом градиента\n",
    "        weights -= learning_rate * gradient\n",
    "        \n",
    "        # Рассчитываем и сохраняем среднеквадратичную ошибку для мониторинга\n",
    "        cost = np.sum((error ** 2)) / (2 * m)\n",
    "        cost_history.append(cost)\n",
    "\n",
    "    return weights, cost_history"
   ]
  },
  {
   "cell_type": "markdown",
   "id": "8d256600-47c1-44d2-879b-bb17073f50b6",
   "metadata": {},
   "source": [
    "# Задание 1\n",
    "\n",
    "Какова вероятность отправиться на прогулку если идёт дождь, при наличии следующих наблюдений?\n",
    "\n",
    "```\n",
    "data = [\n",
    "        ('солнечно', True),\n",
    "        ('снег', False),\n",
    "        ('облачно', False),\n",
    "        ('дождь', False),\n",
    "        ('солнечно', True),\n",
    "        ('снег', False),\n",
    "        ('облачно', True),\n",
    "        ('снег', False),\n",
    "        ('солнечно', False),\n",
    "        ('облачно', True),\n",
    "        ('снег', True),\n",
    "        ('солнечно', True),\n",
    "        ('дождь', False),\n",
    "        ('дождь', True),\n",
    "        ('облачно', True),\n",
    "]\n",
    "```"
   ]
  },
  {
   "cell_type": "code",
   "execution_count": 1,
   "id": "7cf9fecd-e65a-4540-ae2d-b493a76ac7b3",
   "metadata": {},
   "outputs": [],
   "source": [
    "import pandas as pd\n",
    "data = [\n",
    "        ('солнечно', True),\n",
    "        ('снег', False),\n",
    "        ('облачно', False),\n",
    "        ('дождь', False),\n",
    "        ('солнечно', True),\n",
    "        ('снег', False),\n",
    "        ('облачно', True),\n",
    "        ('снег', False),\n",
    "        ('солнечно', False),\n",
    "        ('облачно', True),\n",
    "        ('снег', True),\n",
    "        ('солнечно', True),\n",
    "        ('дождь', False),\n",
    "        ('дождь', True),\n",
    "        ('облачно', True),\n",
    "]"
   ]
  },
  {
   "cell_type": "markdown",
   "id": "d27b59b5-b097-47ed-a2d4-62ec199846ef",
   "metadata": {},
   "source": [
    "Преобразовываем список data в объект DataFrame:"
   ]
  },
  {
   "cell_type": "code",
   "execution_count": 2,
   "id": "5b5f91a8-3f26-489a-9ad8-62f2f71b077c",
   "metadata": {},
   "outputs": [],
   "source": [
    "dfr = pd.DataFrame(data, columns=['погода', 'прогулка'])"
   ]
  },
  {
   "cell_type": "markdown",
   "id": "0a810e2d-35f9-4896-9f10-382d32fcc06b",
   "metadata": {},
   "source": [
    "Отфильтровываем строки, чтобы оставить только наблюдения, где 'дождь'"
   ]
  },
  {
   "cell_type": "code",
   "execution_count": 3,
   "id": "a88db5ba-8c44-4967-b598-461ad2332251",
   "metadata": {},
   "outputs": [],
   "source": [
    "df_rain = dfr[dfr['погода'] == 'дождь']"
   ]
  },
  {
   "cell_type": "markdown",
   "id": "bd5c8eef-b44b-4911-b456-c730b40b1f57",
   "metadata": {},
   "source": [
    "вычисляем вероятность"
   ]
  },
  {
   "cell_type": "code",
   "execution_count": 4,
   "id": "6e8629ad-522e-4ef0-9603-9f6ac7c9648d",
   "metadata": {},
   "outputs": [
    {
     "name": "stdout",
     "output_type": "stream",
     "text": [
      "0.3333333333333333\n"
     ]
    }
   ],
   "source": [
    "probability = df_rain['прогулка'].mean()\n",
    "print(probability)"
   ]
  },
  {
   "cell_type": "markdown",
   "id": "9178c65d-00a6-47d2-83be-74b0866a7b3f",
   "metadata": {},
   "source": [
    "## Задание 2\n",
    "• Загрузите датасет для классификации (см. файл Excel для Лаб.работы №3), проведите предобработку, выделите целевой признак и предикторы, разбейте данные на обучающую и тестовую выборку.\n",
    "\n",
    "• Масштабируйте числовые признаки.\n",
    "\n",
    "• В случае дисбаланса проведите балансировку.\n",
    "\n",
    "• Решите задачу классификации на ваших данных с использованием рас-смотренных моделей Sklearn: k-NN, Naive Bayes, Logistic Regression, SVM. Не забудьте подобрать гиперпараметры.\n",
    "\n",
    "• Вычислите значения метрик Accuracy, Precision, Recall, F1, ROC AUC score.\n",
    "\n",
    "• Построить итоговую модель классификаторов (см. Lab4_Ex5 ClassificationModel.ipynb).\n",
    "\n",
    "## Задание 3\n",
    "• Самостоятельно реализуйте метрики Accuracy, Precision, Recall, F1\n",
    "\n",
    "• Самостоятельно реализуйте kNN.\n",
    "\n",
    "## Дополнительные баллы\n",
    "• Самостоятельно реализуйте SVM с возможностью выбирать ядро."
   ]
  },
  {
   "cell_type": "markdown",
   "id": "c23eb1fb-a83a-40d5-8118-d2f36c7eab62",
   "metadata": {},
   "source": [
    "## Задание 2"
   ]
  },
  {
   "cell_type": "code",
   "execution_count": 2,
   "id": "c4a9face-ddd2-4301-8059-73df11c0b2fa",
   "metadata": {},
   "outputs": [],
   "source": [
    "import pandas as pd\n",
    "import matplotlib.pyplot as plt\n",
    "import numpy as np\n",
    "import seaborn as sns\n",
    "import warnings\n",
    "import os"
   ]
  },
  {
   "cell_type": "code",
   "execution_count": 3,
   "id": "6a909159-0eb4-4d57-bbd2-bfd46fee4e5d",
   "metadata": {},
   "outputs": [],
   "source": [
    "os.chdir('../data')\n",
    "#Вариант 1\n",
    "df = pd.read_csv('airlines_task.csv')"
   ]
  },
  {
   "cell_type": "markdown",
   "id": "b57a7821-c5dd-4765-99f1-2110b608072e",
   "metadata": {},
   "source": [
    "# Проверка данных и их предобработка"
   ]
  },
  {
   "cell_type": "code",
   "execution_count": 4,
   "id": "f82e185e-063c-4f20-bbe4-7a7658834d93",
   "metadata": {},
   "outputs": [
    {
     "name": "stdout",
     "output_type": "stream",
     "text": [
      "<class 'pandas.core.frame.DataFrame'>\n",
      "RangeIndex: 400000 entries, 0 to 399999\n",
      "Data columns (total 9 columns):\n",
      " #   Column       Non-Null Count   Dtype  \n",
      "---  ------       --------------   -----  \n",
      " 0   id           400000 non-null  int64  \n",
      " 1   Airline      399264 non-null  object \n",
      " 2   Flight       400000 non-null  int64  \n",
      " 3   AirportFrom  400000 non-null  object \n",
      " 4   AirportTo    398843 non-null  object \n",
      " 5   DayOfWeek    399673 non-null  float64\n",
      " 6   Time         400000 non-null  int64  \n",
      " 7   Length       399517 non-null  float64\n",
      " 8   Delay        400000 non-null  int64  \n",
      "dtypes: float64(2), int64(4), object(3)\n",
      "memory usage: 27.5+ MB\n"
     ]
    }
   ],
   "source": [
    "df.info()"
   ]
  },
  {
   "cell_type": "code",
   "execution_count": 5,
   "id": "d7716c62-e4cc-4cbf-b180-5fa784cdc6e5",
   "metadata": {},
   "outputs": [
    {
     "data": {
      "text/html": [
       "<div>\n",
       "<style scoped>\n",
       "    .dataframe tbody tr th:only-of-type {\n",
       "        vertical-align: middle;\n",
       "    }\n",
       "\n",
       "    .dataframe tbody tr th {\n",
       "        vertical-align: top;\n",
       "    }\n",
       "\n",
       "    .dataframe thead th {\n",
       "        text-align: right;\n",
       "    }\n",
       "</style>\n",
       "<table border=\"1\" class=\"dataframe\">\n",
       "  <thead>\n",
       "    <tr style=\"text-align: right;\">\n",
       "      <th></th>\n",
       "      <th>id</th>\n",
       "      <th>Airline</th>\n",
       "      <th>Flight</th>\n",
       "      <th>AirportFrom</th>\n",
       "      <th>AirportTo</th>\n",
       "      <th>DayOfWeek</th>\n",
       "      <th>Time</th>\n",
       "      <th>Length</th>\n",
       "      <th>Delay</th>\n",
       "    </tr>\n",
       "  </thead>\n",
       "  <tbody>\n",
       "    <tr>\n",
       "      <th>0</th>\n",
       "      <td>400740</td>\n",
       "      <td>XE</td>\n",
       "      <td>3036</td>\n",
       "      <td>IAH</td>\n",
       "      <td>CHS</td>\n",
       "      <td>4.0</td>\n",
       "      <td>1195</td>\n",
       "      <td>131.0</td>\n",
       "      <td>0</td>\n",
       "    </tr>\n",
       "    <tr>\n",
       "      <th>1</th>\n",
       "      <td>194808</td>\n",
       "      <td>UA</td>\n",
       "      <td>315</td>\n",
       "      <td>DEN</td>\n",
       "      <td>ONT</td>\n",
       "      <td>7.0</td>\n",
       "      <td>707</td>\n",
       "      <td>145.0</td>\n",
       "      <td>0</td>\n",
       "    </tr>\n",
       "    <tr>\n",
       "      <th>2</th>\n",
       "      <td>526903</td>\n",
       "      <td>OO</td>\n",
       "      <td>6673</td>\n",
       "      <td>SFO</td>\n",
       "      <td>MRY</td>\n",
       "      <td>5.0</td>\n",
       "      <td>499</td>\n",
       "      <td>42.0</td>\n",
       "      <td>1</td>\n",
       "    </tr>\n",
       "    <tr>\n",
       "      <th>3</th>\n",
       "      <td>477937</td>\n",
       "      <td>WN</td>\n",
       "      <td>3668</td>\n",
       "      <td>PHX</td>\n",
       "      <td>ONT</td>\n",
       "      <td>2.0</td>\n",
       "      <td>810</td>\n",
       "      <td>70.0</td>\n",
       "      <td>1</td>\n",
       "    </tr>\n",
       "    <tr>\n",
       "      <th>4</th>\n",
       "      <td>48180</td>\n",
       "      <td>AS</td>\n",
       "      <td>623</td>\n",
       "      <td>LAS</td>\n",
       "      <td>PDX</td>\n",
       "      <td>5.0</td>\n",
       "      <td>985</td>\n",
       "      <td>143.0</td>\n",
       "      <td>0</td>\n",
       "    </tr>\n",
       "  </tbody>\n",
       "</table>\n",
       "</div>"
      ],
      "text/plain": [
       "       id Airline  Flight AirportFrom AirportTo  DayOfWeek  Time  Length  \\\n",
       "0  400740      XE    3036         IAH       CHS        4.0  1195   131.0   \n",
       "1  194808      UA     315         DEN       ONT        7.0   707   145.0   \n",
       "2  526903      OO    6673         SFO       MRY        5.0   499    42.0   \n",
       "3  477937      WN    3668         PHX       ONT        2.0   810    70.0   \n",
       "4   48180      AS     623         LAS       PDX        5.0   985   143.0   \n",
       "\n",
       "   Delay  \n",
       "0      0  \n",
       "1      0  \n",
       "2      1  \n",
       "3      1  \n",
       "4      0  "
      ]
     },
     "execution_count": 5,
     "metadata": {},
     "output_type": "execute_result"
    }
   ],
   "source": [
    "df.head()"
   ]
  },
  {
   "cell_type": "code",
   "execution_count": 6,
   "id": "e8e6818e-91af-4549-866a-110afca2094b",
   "metadata": {},
   "outputs": [],
   "source": [
    "df = df.set_index('id')"
   ]
  },
  {
   "cell_type": "code",
   "execution_count": 7,
   "id": "03971652-b343-4595-b24a-5020261c2598",
   "metadata": {},
   "outputs": [
    {
     "name": "stdout",
     "output_type": "stream",
     "text": [
      "<class 'pandas.core.frame.DataFrame'>\n",
      "Index: 400000 entries, 400740 to 510933\n",
      "Data columns (total 8 columns):\n",
      " #   Column       Non-Null Count   Dtype  \n",
      "---  ------       --------------   -----  \n",
      " 0   airline      399264 non-null  object \n",
      " 1   flight       400000 non-null  int64  \n",
      " 2   airportfrom  400000 non-null  object \n",
      " 3   airportto    398843 non-null  object \n",
      " 4   dayofweek    399673 non-null  float64\n",
      " 5   time         400000 non-null  int64  \n",
      " 6   length       399517 non-null  float64\n",
      " 7   delay        400000 non-null  int64  \n",
      "dtypes: float64(2), int64(3), object(3)\n",
      "memory usage: 27.5+ MB\n"
     ]
    }
   ],
   "source": [
    "cols = df.columns.tolist()\n",
    "cols = [col.lower().replace(\" \", \"_\") for col in cols]\n",
    "df.columns = cols\n",
    "df.info()"
   ]
  },
  {
   "cell_type": "code",
   "execution_count": 8,
   "id": "2c39f790-ffec-43ca-aa5f-37a190f3b547",
   "metadata": {},
   "outputs": [
    {
     "data": {
      "text/plain": [
       "airline        0\n",
       "flight         0\n",
       "airportfrom    0\n",
       "airportto      0\n",
       "dayofweek      0\n",
       "time           0\n",
       "length         0\n",
       "delay          0\n",
       "dtype: int64"
      ]
     },
     "execution_count": 8,
     "metadata": {},
     "output_type": "execute_result"
    }
   ],
   "source": [
    "if df.isnull().any().any():\n",
    "    for column in df.columns:\n",
    "        if df[column].dtype == 'int64':\n",
    "            # Заполним пропуски медианой для целых чисел\n",
    "            df[column].fillna(df[column].median(), inplace=True)\n",
    "        elif df[column].dtype == 'float64':\n",
    "            # Заполним пропуски средним значением для действительных чисел\n",
    "            df[column].fillna(df[column].mean(), inplace=True)\n",
    "        else:\n",
    "            # Заполним пропуски модой для остальных типов данных\n",
    "            df[column].fillna(df[column].mode().iloc[0], inplace=True)\n",
    "df.isna().sum()"
   ]
  },
  {
   "cell_type": "code",
   "execution_count": 9,
   "id": "57bdaf93-bbb6-4159-9183-ad4abf6aae86",
   "metadata": {},
   "outputs": [
    {
     "data": {
      "text/plain": [
       "0"
      ]
     },
     "execution_count": 9,
     "metadata": {},
     "output_type": "execute_result"
    }
   ],
   "source": [
    "df = df.drop_duplicates().reset_index(drop=True)\n",
    "df.duplicated().sum()"
   ]
  },
  {
   "cell_type": "code",
   "execution_count": 10,
   "id": "781e13b3-0d36-4010-89bd-5551d273481b",
   "metadata": {},
   "outputs": [
    {
     "data": {
      "text/html": [
       "<div>\n",
       "<style scoped>\n",
       "    .dataframe tbody tr th:only-of-type {\n",
       "        vertical-align: middle;\n",
       "    }\n",
       "\n",
       "    .dataframe tbody tr th {\n",
       "        vertical-align: top;\n",
       "    }\n",
       "\n",
       "    .dataframe thead th {\n",
       "        text-align: right;\n",
       "    }\n",
       "</style>\n",
       "<table border=\"1\" class=\"dataframe\">\n",
       "  <thead>\n",
       "    <tr style=\"text-align: right;\">\n",
       "      <th></th>\n",
       "      <th>flight</th>\n",
       "      <th>dayofweek</th>\n",
       "      <th>time</th>\n",
       "      <th>length</th>\n",
       "      <th>delay</th>\n",
       "      <th>airline_9E</th>\n",
       "      <th>airline_AA</th>\n",
       "      <th>airline_AS</th>\n",
       "      <th>airline_B6</th>\n",
       "      <th>airline_CO</th>\n",
       "      <th>...</th>\n",
       "      <th>airportto_TXK</th>\n",
       "      <th>airportto_TYR</th>\n",
       "      <th>airportto_TYS</th>\n",
       "      <th>airportto_UTM</th>\n",
       "      <th>airportto_VLD</th>\n",
       "      <th>airportto_VPS</th>\n",
       "      <th>airportto_WRG</th>\n",
       "      <th>airportto_XNA</th>\n",
       "      <th>airportto_YAK</th>\n",
       "      <th>airportto_YUM</th>\n",
       "    </tr>\n",
       "  </thead>\n",
       "  <tbody>\n",
       "    <tr>\n",
       "      <th>0</th>\n",
       "      <td>3036</td>\n",
       "      <td>4</td>\n",
       "      <td>1195</td>\n",
       "      <td>131</td>\n",
       "      <td>0</td>\n",
       "      <td>False</td>\n",
       "      <td>False</td>\n",
       "      <td>False</td>\n",
       "      <td>False</td>\n",
       "      <td>False</td>\n",
       "      <td>...</td>\n",
       "      <td>False</td>\n",
       "      <td>False</td>\n",
       "      <td>False</td>\n",
       "      <td>False</td>\n",
       "      <td>False</td>\n",
       "      <td>False</td>\n",
       "      <td>False</td>\n",
       "      <td>False</td>\n",
       "      <td>False</td>\n",
       "      <td>False</td>\n",
       "    </tr>\n",
       "    <tr>\n",
       "      <th>1</th>\n",
       "      <td>315</td>\n",
       "      <td>7</td>\n",
       "      <td>707</td>\n",
       "      <td>145</td>\n",
       "      <td>0</td>\n",
       "      <td>False</td>\n",
       "      <td>False</td>\n",
       "      <td>False</td>\n",
       "      <td>False</td>\n",
       "      <td>False</td>\n",
       "      <td>...</td>\n",
       "      <td>False</td>\n",
       "      <td>False</td>\n",
       "      <td>False</td>\n",
       "      <td>False</td>\n",
       "      <td>False</td>\n",
       "      <td>False</td>\n",
       "      <td>False</td>\n",
       "      <td>False</td>\n",
       "      <td>False</td>\n",
       "      <td>False</td>\n",
       "    </tr>\n",
       "    <tr>\n",
       "      <th>2</th>\n",
       "      <td>6673</td>\n",
       "      <td>5</td>\n",
       "      <td>499</td>\n",
       "      <td>42</td>\n",
       "      <td>1</td>\n",
       "      <td>False</td>\n",
       "      <td>False</td>\n",
       "      <td>False</td>\n",
       "      <td>False</td>\n",
       "      <td>False</td>\n",
       "      <td>...</td>\n",
       "      <td>False</td>\n",
       "      <td>False</td>\n",
       "      <td>False</td>\n",
       "      <td>False</td>\n",
       "      <td>False</td>\n",
       "      <td>False</td>\n",
       "      <td>False</td>\n",
       "      <td>False</td>\n",
       "      <td>False</td>\n",
       "      <td>False</td>\n",
       "    </tr>\n",
       "    <tr>\n",
       "      <th>3</th>\n",
       "      <td>3668</td>\n",
       "      <td>2</td>\n",
       "      <td>810</td>\n",
       "      <td>70</td>\n",
       "      <td>1</td>\n",
       "      <td>False</td>\n",
       "      <td>False</td>\n",
       "      <td>False</td>\n",
       "      <td>False</td>\n",
       "      <td>False</td>\n",
       "      <td>...</td>\n",
       "      <td>False</td>\n",
       "      <td>False</td>\n",
       "      <td>False</td>\n",
       "      <td>False</td>\n",
       "      <td>False</td>\n",
       "      <td>False</td>\n",
       "      <td>False</td>\n",
       "      <td>False</td>\n",
       "      <td>False</td>\n",
       "      <td>False</td>\n",
       "    </tr>\n",
       "    <tr>\n",
       "      <th>4</th>\n",
       "      <td>623</td>\n",
       "      <td>5</td>\n",
       "      <td>985</td>\n",
       "      <td>143</td>\n",
       "      <td>0</td>\n",
       "      <td>False</td>\n",
       "      <td>False</td>\n",
       "      <td>True</td>\n",
       "      <td>False</td>\n",
       "      <td>False</td>\n",
       "      <td>...</td>\n",
       "      <td>False</td>\n",
       "      <td>False</td>\n",
       "      <td>False</td>\n",
       "      <td>False</td>\n",
       "      <td>False</td>\n",
       "      <td>False</td>\n",
       "      <td>False</td>\n",
       "      <td>False</td>\n",
       "      <td>False</td>\n",
       "      <td>False</td>\n",
       "    </tr>\n",
       "    <tr>\n",
       "      <th>...</th>\n",
       "      <td>...</td>\n",
       "      <td>...</td>\n",
       "      <td>...</td>\n",
       "      <td>...</td>\n",
       "      <td>...</td>\n",
       "      <td>...</td>\n",
       "      <td>...</td>\n",
       "      <td>...</td>\n",
       "      <td>...</td>\n",
       "      <td>...</td>\n",
       "      <td>...</td>\n",
       "      <td>...</td>\n",
       "      <td>...</td>\n",
       "      <td>...</td>\n",
       "      <td>...</td>\n",
       "      <td>...</td>\n",
       "      <td>...</td>\n",
       "      <td>...</td>\n",
       "      <td>...</td>\n",
       "      <td>...</td>\n",
       "      <td>...</td>\n",
       "    </tr>\n",
       "    <tr>\n",
       "      <th>256653</th>\n",
       "      <td>2699</td>\n",
       "      <td>7</td>\n",
       "      <td>910</td>\n",
       "      <td>62</td>\n",
       "      <td>0</td>\n",
       "      <td>False</td>\n",
       "      <td>False</td>\n",
       "      <td>False</td>\n",
       "      <td>False</td>\n",
       "      <td>False</td>\n",
       "      <td>...</td>\n",
       "      <td>False</td>\n",
       "      <td>False</td>\n",
       "      <td>False</td>\n",
       "      <td>False</td>\n",
       "      <td>False</td>\n",
       "      <td>False</td>\n",
       "      <td>False</td>\n",
       "      <td>False</td>\n",
       "      <td>False</td>\n",
       "      <td>False</td>\n",
       "    </tr>\n",
       "    <tr>\n",
       "      <th>256654</th>\n",
       "      <td>3995</td>\n",
       "      <td>2</td>\n",
       "      <td>985</td>\n",
       "      <td>80</td>\n",
       "      <td>0</td>\n",
       "      <td>False</td>\n",
       "      <td>False</td>\n",
       "      <td>False</td>\n",
       "      <td>False</td>\n",
       "      <td>False</td>\n",
       "      <td>...</td>\n",
       "      <td>False</td>\n",
       "      <td>False</td>\n",
       "      <td>False</td>\n",
       "      <td>False</td>\n",
       "      <td>False</td>\n",
       "      <td>False</td>\n",
       "      <td>False</td>\n",
       "      <td>False</td>\n",
       "      <td>False</td>\n",
       "      <td>False</td>\n",
       "    </tr>\n",
       "    <tr>\n",
       "      <th>256655</th>\n",
       "      <td>6474</td>\n",
       "      <td>6</td>\n",
       "      <td>652</td>\n",
       "      <td>138</td>\n",
       "      <td>0</td>\n",
       "      <td>False</td>\n",
       "      <td>False</td>\n",
       "      <td>False</td>\n",
       "      <td>False</td>\n",
       "      <td>False</td>\n",
       "      <td>...</td>\n",
       "      <td>False</td>\n",
       "      <td>False</td>\n",
       "      <td>False</td>\n",
       "      <td>False</td>\n",
       "      <td>False</td>\n",
       "      <td>False</td>\n",
       "      <td>False</td>\n",
       "      <td>False</td>\n",
       "      <td>False</td>\n",
       "      <td>False</td>\n",
       "    </tr>\n",
       "    <tr>\n",
       "      <th>256656</th>\n",
       "      <td>486</td>\n",
       "      <td>7</td>\n",
       "      <td>365</td>\n",
       "      <td>107</td>\n",
       "      <td>0</td>\n",
       "      <td>False</td>\n",
       "      <td>False</td>\n",
       "      <td>False</td>\n",
       "      <td>False</td>\n",
       "      <td>False</td>\n",
       "      <td>...</td>\n",
       "      <td>False</td>\n",
       "      <td>False</td>\n",
       "      <td>False</td>\n",
       "      <td>False</td>\n",
       "      <td>False</td>\n",
       "      <td>False</td>\n",
       "      <td>False</td>\n",
       "      <td>False</td>\n",
       "      <td>False</td>\n",
       "      <td>False</td>\n",
       "    </tr>\n",
       "    <tr>\n",
       "      <th>256657</th>\n",
       "      <td>1037</td>\n",
       "      <td>4</td>\n",
       "      <td>605</td>\n",
       "      <td>150</td>\n",
       "      <td>1</td>\n",
       "      <td>False</td>\n",
       "      <td>False</td>\n",
       "      <td>False</td>\n",
       "      <td>False</td>\n",
       "      <td>False</td>\n",
       "      <td>...</td>\n",
       "      <td>False</td>\n",
       "      <td>False</td>\n",
       "      <td>False</td>\n",
       "      <td>False</td>\n",
       "      <td>False</td>\n",
       "      <td>False</td>\n",
       "      <td>False</td>\n",
       "      <td>False</td>\n",
       "      <td>False</td>\n",
       "      <td>False</td>\n",
       "    </tr>\n",
       "  </tbody>\n",
       "</table>\n",
       "<p>256658 rows × 609 columns</p>\n",
       "</div>"
      ],
      "text/plain": [
       "        flight  dayofweek  time  length  delay  airline_9E  airline_AA  \\\n",
       "0         3036          4  1195     131      0       False       False   \n",
       "1          315          7   707     145      0       False       False   \n",
       "2         6673          5   499      42      1       False       False   \n",
       "3         3668          2   810      70      1       False       False   \n",
       "4          623          5   985     143      0       False       False   \n",
       "...        ...        ...   ...     ...    ...         ...         ...   \n",
       "256653    2699          7   910      62      0       False       False   \n",
       "256654    3995          2   985      80      0       False       False   \n",
       "256655    6474          6   652     138      0       False       False   \n",
       "256656     486          7   365     107      0       False       False   \n",
       "256657    1037          4   605     150      1       False       False   \n",
       "\n",
       "        airline_AS  airline_B6  airline_CO  ...  airportto_TXK  airportto_TYR  \\\n",
       "0            False       False       False  ...          False          False   \n",
       "1            False       False       False  ...          False          False   \n",
       "2            False       False       False  ...          False          False   \n",
       "3            False       False       False  ...          False          False   \n",
       "4             True       False       False  ...          False          False   \n",
       "...            ...         ...         ...  ...            ...            ...   \n",
       "256653       False       False       False  ...          False          False   \n",
       "256654       False       False       False  ...          False          False   \n",
       "256655       False       False       False  ...          False          False   \n",
       "256656       False       False       False  ...          False          False   \n",
       "256657       False       False       False  ...          False          False   \n",
       "\n",
       "        airportto_TYS  airportto_UTM  airportto_VLD  airportto_VPS  \\\n",
       "0               False          False          False          False   \n",
       "1               False          False          False          False   \n",
       "2               False          False          False          False   \n",
       "3               False          False          False          False   \n",
       "4               False          False          False          False   \n",
       "...               ...            ...            ...            ...   \n",
       "256653          False          False          False          False   \n",
       "256654          False          False          False          False   \n",
       "256655          False          False          False          False   \n",
       "256656          False          False          False          False   \n",
       "256657          False          False          False          False   \n",
       "\n",
       "        airportto_WRG  airportto_XNA  airportto_YAK  airportto_YUM  \n",
       "0               False          False          False          False  \n",
       "1               False          False          False          False  \n",
       "2               False          False          False          False  \n",
       "3               False          False          False          False  \n",
       "4               False          False          False          False  \n",
       "...               ...            ...            ...            ...  \n",
       "256653          False          False          False          False  \n",
       "256654          False          False          False          False  \n",
       "256655          False          False          False          False  \n",
       "256656          False          False          False          False  \n",
       "256657          False          False          False          False  \n",
       "\n",
       "[256658 rows x 609 columns]"
      ]
     },
     "execution_count": 10,
     "metadata": {},
     "output_type": "execute_result"
    }
   ],
   "source": [
    "for column in df.columns:\n",
    "    if df[column].dtype == float:\n",
    "        df[column] = df[column].astype(int)\n",
    "\n",
    "df = pd.get_dummies(df)\n",
    "df"
   ]
  },
  {
   "cell_type": "markdown",
   "id": "a696484d-7151-4c97-8675-684398f43c98",
   "metadata": {},
   "source": [
    "# EDA"
   ]
  },
  {
   "cell_type": "code",
   "execution_count": 11,
   "id": "f3bbe34e-3bfc-4e06-aabc-eecdccf282b6",
   "metadata": {},
   "outputs": [
    {
     "data": {
      "image/png": "[encoded data removed]",
      "text/plain": [
       "<Figure size 640x480 with 1 Axes>"
      ]
     },
     "metadata": {},
     "output_type": "display_data"
    },
    {
     "data": {
      "image/png": "[encoded data removed]",
      "text/plain": [
       "<Figure size 640x480 with 1 Axes>"
      ]
     },
     "metadata": {},
     "output_type": "display_data"
    },
    {
     "data": {
      "image/png": "[encoded data removed]",
      "text/plain": [
       "<Figure size 640x480 with 1 Axes>"
      ]
     },
     "metadata": {},
     "output_type": "display_data"
    },
    {
     "data": {
      "image/png": "[encoded data removed]",
      "text/plain": [
       "<Figure size 640x480 with 1 Axes>"
      ]
     },
     "metadata": {},
     "output_type": "display_data"
    },
    {
     "data": {
      "image/png": "[encoded data removed]",
      "text/plain": [
       "<Figure size 640x480 with 1 Axes>"
      ]
     },
     "metadata": {},
     "output_type": "display_data"
    }
   ],
   "source": [
    "columns = ['flight','dayofweek','time','length', 'delay']\n",
    "\n",
    "for col in columns:\n",
    "    df.hist(col, bins=100)"
   ]
  },
  {
   "cell_type": "code",
   "execution_count": 12,
   "id": "37b2441e-e4d2-42f6-93b2-933c022f29af",
   "metadata": {},
   "outputs": [
    {
     "data": {
      "text/html": [
       "<div>\n",
       "<style scoped>\n",
       "    .dataframe tbody tr th:only-of-type {\n",
       "        vertical-align: middle;\n",
       "    }\n",
       "\n",
       "    .dataframe tbody tr th {\n",
       "        vertical-align: top;\n",
       "    }\n",
       "\n",
       "    .dataframe thead th {\n",
       "        text-align: right;\n",
       "    }\n",
       "</style>\n",
       "<table border=\"1\" class=\"dataframe\">\n",
       "  <thead>\n",
       "    <tr style=\"text-align: right;\">\n",
       "      <th></th>\n",
       "      <th>flight</th>\n",
       "      <th>dayofweek</th>\n",
       "      <th>time</th>\n",
       "      <th>length</th>\n",
       "    </tr>\n",
       "  </thead>\n",
       "  <tbody>\n",
       "    <tr>\n",
       "      <th>count</th>\n",
       "      <td>256658.000000</td>\n",
       "      <td>256658.000000</td>\n",
       "      <td>256658.000000</td>\n",
       "      <td>256658.000000</td>\n",
       "    </tr>\n",
       "    <tr>\n",
       "      <th>mean</th>\n",
       "      <td>2547.516236</td>\n",
       "      <td>3.950140</td>\n",
       "      <td>803.438521</td>\n",
       "      <td>130.990630</td>\n",
       "    </tr>\n",
       "    <tr>\n",
       "      <th>std</th>\n",
       "      <td>2141.921078</td>\n",
       "      <td>1.893203</td>\n",
       "      <td>278.851653</td>\n",
       "      <td>68.827114</td>\n",
       "    </tr>\n",
       "    <tr>\n",
       "      <th>min</th>\n",
       "      <td>1.000000</td>\n",
       "      <td>1.000000</td>\n",
       "      <td>10.000000</td>\n",
       "      <td>0.000000</td>\n",
       "    </tr>\n",
       "    <tr>\n",
       "      <th>25%</th>\n",
       "      <td>739.000000</td>\n",
       "      <td>2.000000</td>\n",
       "      <td>565.000000</td>\n",
       "      <td>82.000000</td>\n",
       "    </tr>\n",
       "    <tr>\n",
       "      <th>50%</th>\n",
       "      <td>1921.000000</td>\n",
       "      <td>4.000000</td>\n",
       "      <td>796.000000</td>\n",
       "      <td>115.000000</td>\n",
       "    </tr>\n",
       "    <tr>\n",
       "      <th>75%</th>\n",
       "      <td>3977.000000</td>\n",
       "      <td>5.000000</td>\n",
       "      <td>1035.000000</td>\n",
       "      <td>160.000000</td>\n",
       "    </tr>\n",
       "    <tr>\n",
       "      <th>max</th>\n",
       "      <td>7813.000000</td>\n",
       "      <td>7.000000</td>\n",
       "      <td>1439.000000</td>\n",
       "      <td>655.000000</td>\n",
       "    </tr>\n",
       "  </tbody>\n",
       "</table>\n",
       "</div>"
      ],
      "text/plain": [
       "              flight      dayofweek           time         length\n",
       "count  256658.000000  256658.000000  256658.000000  256658.000000\n",
       "mean     2547.516236       3.950140     803.438521     130.990630\n",
       "std      2141.921078       1.893203     278.851653      68.827114\n",
       "min         1.000000       1.000000      10.000000       0.000000\n",
       "25%       739.000000       2.000000     565.000000      82.000000\n",
       "50%      1921.000000       4.000000     796.000000     115.000000\n",
       "75%      3977.000000       5.000000    1035.000000     160.000000\n",
       "max      7813.000000       7.000000    1439.000000     655.000000"
      ]
     },
     "execution_count": 12,
     "metadata": {},
     "output_type": "execute_result"
    }
   ],
   "source": [
    "df.describe()[['flight','dayofweek','time','length']]"
   ]
  },
  {
   "cell_type": "code",
   "execution_count": 13,
   "id": "a5a5f112-b07c-40a5-aca4-c93fa60981f0",
   "metadata": {},
   "outputs": [
    {
     "data": {
      "text/html": [
       "<div>\n",
       "<style scoped>\n",
       "    .dataframe tbody tr th:only-of-type {\n",
       "        vertical-align: middle;\n",
       "    }\n",
       "\n",
       "    .dataframe tbody tr th {\n",
       "        vertical-align: top;\n",
       "    }\n",
       "\n",
       "    .dataframe thead th {\n",
       "        text-align: right;\n",
       "    }\n",
       "</style>\n",
       "<table border=\"1\" class=\"dataframe\">\n",
       "  <thead>\n",
       "    <tr style=\"text-align: right;\">\n",
       "      <th></th>\n",
       "      <th>flight</th>\n",
       "      <th>dayofweek</th>\n",
       "      <th>time</th>\n",
       "      <th>length</th>\n",
       "      <th>delay</th>\n",
       "      <th>airline_9E</th>\n",
       "      <th>airline_AA</th>\n",
       "      <th>airline_AS</th>\n",
       "      <th>airline_B6</th>\n",
       "      <th>airline_CO</th>\n",
       "      <th>...</th>\n",
       "      <th>airportto_TXK</th>\n",
       "      <th>airportto_TYR</th>\n",
       "      <th>airportto_TYS</th>\n",
       "      <th>airportto_UTM</th>\n",
       "      <th>airportto_VLD</th>\n",
       "      <th>airportto_VPS</th>\n",
       "      <th>airportto_WRG</th>\n",
       "      <th>airportto_XNA</th>\n",
       "      <th>airportto_YAK</th>\n",
       "      <th>airportto_YUM</th>\n",
       "    </tr>\n",
       "  </thead>\n",
       "  <tbody>\n",
       "    <tr>\n",
       "      <th>0</th>\n",
       "      <td>3036</td>\n",
       "      <td>4</td>\n",
       "      <td>1195</td>\n",
       "      <td>131</td>\n",
       "      <td>0</td>\n",
       "      <td>False</td>\n",
       "      <td>False</td>\n",
       "      <td>False</td>\n",
       "      <td>False</td>\n",
       "      <td>False</td>\n",
       "      <td>...</td>\n",
       "      <td>False</td>\n",
       "      <td>False</td>\n",
       "      <td>False</td>\n",
       "      <td>False</td>\n",
       "      <td>False</td>\n",
       "      <td>False</td>\n",
       "      <td>False</td>\n",
       "      <td>False</td>\n",
       "      <td>False</td>\n",
       "      <td>False</td>\n",
       "    </tr>\n",
       "    <tr>\n",
       "      <th>1</th>\n",
       "      <td>315</td>\n",
       "      <td>7</td>\n",
       "      <td>707</td>\n",
       "      <td>145</td>\n",
       "      <td>0</td>\n",
       "      <td>False</td>\n",
       "      <td>False</td>\n",
       "      <td>False</td>\n",
       "      <td>False</td>\n",
       "      <td>False</td>\n",
       "      <td>...</td>\n",
       "      <td>False</td>\n",
       "      <td>False</td>\n",
       "      <td>False</td>\n",
       "      <td>False</td>\n",
       "      <td>False</td>\n",
       "      <td>False</td>\n",
       "      <td>False</td>\n",
       "      <td>False</td>\n",
       "      <td>False</td>\n",
       "      <td>False</td>\n",
       "    </tr>\n",
       "    <tr>\n",
       "      <th>2</th>\n",
       "      <td>6673</td>\n",
       "      <td>5</td>\n",
       "      <td>499</td>\n",
       "      <td>42</td>\n",
       "      <td>1</td>\n",
       "      <td>False</td>\n",
       "      <td>False</td>\n",
       "      <td>False</td>\n",
       "      <td>False</td>\n",
       "      <td>False</td>\n",
       "      <td>...</td>\n",
       "      <td>False</td>\n",
       "      <td>False</td>\n",
       "      <td>False</td>\n",
       "      <td>False</td>\n",
       "      <td>False</td>\n",
       "      <td>False</td>\n",
       "      <td>False</td>\n",
       "      <td>False</td>\n",
       "      <td>False</td>\n",
       "      <td>False</td>\n",
       "    </tr>\n",
       "    <tr>\n",
       "      <th>3</th>\n",
       "      <td>3668</td>\n",
       "      <td>2</td>\n",
       "      <td>810</td>\n",
       "      <td>70</td>\n",
       "      <td>1</td>\n",
       "      <td>False</td>\n",
       "      <td>False</td>\n",
       "      <td>False</td>\n",
       "      <td>False</td>\n",
       "      <td>False</td>\n",
       "      <td>...</td>\n",
       "      <td>False</td>\n",
       "      <td>False</td>\n",
       "      <td>False</td>\n",
       "      <td>False</td>\n",
       "      <td>False</td>\n",
       "      <td>False</td>\n",
       "      <td>False</td>\n",
       "      <td>False</td>\n",
       "      <td>False</td>\n",
       "      <td>False</td>\n",
       "    </tr>\n",
       "    <tr>\n",
       "      <th>4</th>\n",
       "      <td>623</td>\n",
       "      <td>5</td>\n",
       "      <td>985</td>\n",
       "      <td>143</td>\n",
       "      <td>0</td>\n",
       "      <td>False</td>\n",
       "      <td>False</td>\n",
       "      <td>True</td>\n",
       "      <td>False</td>\n",
       "      <td>False</td>\n",
       "      <td>...</td>\n",
       "      <td>False</td>\n",
       "      <td>False</td>\n",
       "      <td>False</td>\n",
       "      <td>False</td>\n",
       "      <td>False</td>\n",
       "      <td>False</td>\n",
       "      <td>False</td>\n",
       "      <td>False</td>\n",
       "      <td>False</td>\n",
       "      <td>False</td>\n",
       "    </tr>\n",
       "  </tbody>\n",
       "</table>\n",
       "<p>5 rows × 609 columns</p>\n",
       "</div>"
      ],
      "text/plain": [
       "   flight  dayofweek  time  length  delay  airline_9E  airline_AA  airline_AS  \\\n",
       "0    3036          4  1195     131      0       False       False       False   \n",
       "1     315          7   707     145      0       False       False       False   \n",
       "2    6673          5   499      42      1       False       False       False   \n",
       "3    3668          2   810      70      1       False       False       False   \n",
       "4     623          5   985     143      0       False       False        True   \n",
       "\n",
       "   airline_B6  airline_CO  ...  airportto_TXK  airportto_TYR  airportto_TYS  \\\n",
       "0       False       False  ...          False          False          False   \n",
       "1       False       False  ...          False          False          False   \n",
       "2       False       False  ...          False          False          False   \n",
       "3       False       False  ...          False          False          False   \n",
       "4       False       False  ...          False          False          False   \n",
       "\n",
       "   airportto_UTM  airportto_VLD  airportto_VPS  airportto_WRG  airportto_XNA  \\\n",
       "0          False          False          False          False          False   \n",
       "1          False          False          False          False          False   \n",
       "2          False          False          False          False          False   \n",
       "3          False          False          False          False          False   \n",
       "4          False          False          False          False          False   \n",
       "\n",
       "   airportto_YAK  airportto_YUM  \n",
       "0          False          False  \n",
       "1          False          False  \n",
       "2          False          False  \n",
       "3          False          False  \n",
       "4          False          False  \n",
       "\n",
       "[5 rows x 609 columns]"
      ]
     },
     "execution_count": 13,
     "metadata": {},
     "output_type": "execute_result"
    }
   ],
   "source": [
    "outlier = df[['flight','dayofweek','time','length']]\n",
    "Q1 = outlier.quantile(0.25)\n",
    "Q3 = outlier.quantile(0.75)\n",
    "IQR = Q3-Q1\n",
    "df_filtered = outlier[~((outlier < (Q1 - 1.5 * IQR)) |(outlier > (Q3 + 1.5 * IQR))).any(axis=1)]\n",
    "index_list = list(df_filtered.index.values)\n",
    "df_filtered = df[df.index.isin(index_list)]\n",
    "df_filtered.head()"
   ]
  },
  {
   "cell_type": "code",
   "execution_count": 14,
   "id": "b86e736a-4035-43f5-9943-10593b7ce270",
   "metadata": {
    "scrolled": true
   },
   "outputs": [
    {
     "data": {
      "image/png": "[encoded data removed]",
      "text/plain": [
       "<Figure size 640x480 with 1 Axes>"
      ]
     },
     "metadata": {},
     "output_type": "display_data"
    },
    {
     "data": {
      "image/png": "[encoded data removed]",
      "text/plain": [
       "<Figure size 640x480 with 1 Axes>"
      ]
     },
     "metadata": {},
     "output_type": "display_data"
    },
    {
     "data": {
      "image/png": "[encoded data removed]",
      "text/plain": [
       "<Figure size 640x480 with 1 Axes>"
      ]
     },
     "metadata": {},
     "output_type": "display_data"
    },
    {
     "data": {
      "image/png": "[encoded data removed]",
      "text/plain": [
       "<Figure size 640x480 with 1 Axes>"
      ]
     },
     "metadata": {},
     "output_type": "display_data"
    }
   ],
   "source": [
    "filtered_outlier = df_filtered[['flight','dayofweek','time','length']]\n",
    "\n",
    "for col in filtered_outlier:\n",
    "    df_filtered.hist(col, bins=100)"
   ]
  },
  {
   "cell_type": "code",
   "execution_count": 16,
   "id": "450a2f38-0766-41ea-84ea-116751519a0f",
   "metadata": {},
   "outputs": [],
   "source": [
    "df_filtered.to_csv('../data/lab4.csv', index=False)"
   ]
  },
  {
   "cell_type": "markdown",
   "id": "490dd084-d26f-43f4-9f1c-fc54d48f2c30",
   "metadata": {},
   "source": [
    "# Регрессия"
   ]
  },
  {
   "cell_type": "code",
   "execution_count": 18,
   "id": "243f2cef-65d1-4ede-9b14-d5cfdd15aa49",
   "metadata": {},
   "outputs": [],
   "source": [
    "from sklearn.preprocessing import StandardScaler\n",
    "from sklearn.neighbors import KNeighborsClassifier\n",
    "from sklearn.naive_bayes import GaussianNB\n",
    "from sklearn.linear_model import LogisticRegression\n",
    "from sklearn.svm import SVC\n",
    "from sklearn.metrics import accuracy_score\n",
    "from sklearn.model_selection import train_test_split\n",
    "from sklearn.linear_model import LinearRegression, Lasso, Ridge\n",
    "from sklearn.metrics import r2_score, mean_absolute_error, mean_squared_error\n",
    "from sklearn.preprocessing import PolynomialFeatures\n",
    "from sklearn.pipeline import Pipeline\n",
    "import numpy as np"
   ]
  },
  {
   "cell_type": "markdown",
   "id": "17dfc947-1aa5-42a2-bbcb-0d70dc643910",
   "metadata": {},
   "source": [
    "## Масштабируйте числовые признаки."
   ]
  },
  {
   "cell_type": "code",
   "execution_count": 19,
   "id": "0d8e42c1-699c-4343-a2a6-1cc57819d3ea",
   "metadata": {},
   "outputs": [],
   "source": [
    "from sklearn.preprocessing import StandardScaler\n",
    "\n",
    "scaler = StandardScaler()\n",
    "\n",
    "numeric_features = ['flight','dayofweek','time','length'] \n",
    "df[numeric_features] = scaler.fit_transform(df[numeric_features])"
   ]
  },
  {
   "cell_type": "markdown",
   "id": "272134f1-0c48-4cb1-96c9-11a4dfc29435",
   "metadata": {},
   "source": [
    "## В случае дисбаланса проведите балансировку."
   ]
  },
  {
   "cell_type": "code",
   "execution_count": 20,
   "id": "e491cad0-b52a-4904-b11b-bac7e85a6f1e",
   "metadata": {},
   "outputs": [],
   "source": [
    "y = df_filtered[\"delay\"]\n",
    "X = df_filtered.drop([\"delay\"], axis=1)"
   ]
  },
  {
   "cell_type": "code",
   "execution_count": 21,
   "id": "e9044362-06b0-43f3-91e9-ba31924a0eb9",
   "metadata": {},
   "outputs": [],
   "source": [
    "X, _, y, _ = train_test_split(X, y, test_size=0.1, random_state=42)\n",
    "from imblearn.under_sampling import NearMiss\n",
    "nm = NearMiss()\n",
    "X, y = nm.fit_resample(X, y.ravel())"
   ]
  },
  {
   "cell_type": "code",
   "execution_count": 22,
   "id": "51a85cf1-3ed0-45cb-b212-76755e4f12c2",
   "metadata": {},
   "outputs": [],
   "source": [
    "X_train, X_test, y_train, y_test = train_test_split(X, y, test_size=0.3)"
   ]
  },
  {
   "cell_type": "markdown",
   "id": "7fba5803-8802-493f-8d2b-728eda852f96",
   "metadata": {},
   "source": [
    "## Решите задачу классификации на ваших данных с использованием рас-смотренных моделей Sklearn: k-NN, Naive Bayes, Logistic Regression, SVM. Не забудьте подобрать гиперпараметры."
   ]
  },
  {
   "cell_type": "code",
   "execution_count": 23,
   "id": "6442ca49-b7d9-4dc2-8a95-869bfa9d7c2b",
   "metadata": {},
   "outputs": [],
   "source": [
    "from sklearn.model_selection import train_test_split, GridSearchCV, RandomizedSearchCV"
   ]
  },
  {
   "cell_type": "code",
   "execution_count": 24,
   "id": "f083fcc4-3c90-4a9e-8a7b-e9c21a125131",
   "metadata": {},
   "outputs": [],
   "source": [
    "# Стандартизация признаков\n",
    "scaler = StandardScaler()\n",
    "X_train = scaler.fit_transform(X_train)\n",
    "X_test = scaler.transform(X_test)"
   ]
  },
  {
   "cell_type": "code",
   "execution_count": 25,
   "id": "c7b4442f-3dd8-4b87-af79-18c066ce4c36",
   "metadata": {},
   "outputs": [],
   "source": [
    "# Определение параметров для RandomizedSearchCV\n",
    "k_range = list(range(1, 31))\n",
    "weight_options = ['uniform', 'distance']\n",
    "param_dist = dict(n_neighbors=k_range, weights=weight_options)"
   ]
  },
  {
   "cell_type": "markdown",
   "id": "829816f9-29ac-4704-9d06-43077cb908e7",
   "metadata": {},
   "source": [
    "### k-NN"
   ]
  },
  {
   "cell_type": "code",
   "execution_count": 26,
   "id": "3da706ed-3ee9-4c45-8683-f8b9076d4924",
   "metadata": {},
   "outputs": [],
   "source": [
    "knn = KNeighborsClassifier()\n",
    "param_grid_knn = {'n_neighbors': [100, 1001, 300]}\n",
    "grid_search_knn = GridSearchCV(knn, param_grid=param_grid_knn, cv=5)\n",
    "grid_search_knn.fit(X_train, y_train)\n",
    "best_knn = grid_search_knn.best_estimator_"
   ]
  },
  {
   "cell_type": "markdown",
   "id": "a6871066-1bf6-457a-8fd3-8b5c4f52d19e",
   "metadata": {},
   "source": [
    "### Naive Bayes"
   ]
  },
  {
   "cell_type": "code",
   "execution_count": 27,
   "id": "a0160fab-cdf1-4028-a29f-970819ebaec7",
   "metadata": {},
   "outputs": [
    {
     "data": {
      "text/html": [
       "<style>#sk-container-id-1 {color: black;}#sk-container-id-1 pre{padding: 0;}#sk-container-id-1 div.sk-toggleable {background-color: white;}#sk-container-id-1 label.sk-toggleable__label {cursor: pointer;display: block;width: 100%;margin-bottom: 0;padding: 0.3em;box-sizing: border-box;text-align: center;}#sk-container-id-1 label.sk-toggleable__label-arrow:before {content: \"▸\";float: left;margin-right: 0.25em;color: #696969;}#sk-container-id-1 label.sk-toggleable__label-arrow:hover:before {color: black;}#sk-container-id-1 div.sk-estimator:hover label.sk-toggleable__label-arrow:before {color: black;}#sk-container-id-1 div.sk-toggleable__content {max-height: 0;max-width: 0;overflow: hidden;text-align: left;background-color: #f0f8ff;}#sk-container-id-1 div.sk-toggleable__content pre {margin: 0.2em;color: black;border-radius: 0.25em;background-color: #f0f8ff;}#sk-container-id-1 input.sk-toggleable__control:checked~div.sk-toggleable__content {max-height: 200px;max-width: 100%;overflow: auto;}#sk-container-id-1 input.sk-toggleable__control:checked~label.sk-toggleable__label-arrow:before {content: \"▾\";}#sk-container-id-1 div.sk-estimator input.sk-toggleable__control:checked~label.sk-toggleable__label {background-color: #d4ebff;}#sk-container-id-1 div.sk-label input.sk-toggleable__control:checked~label.sk-toggleable__label {background-color: #d4ebff;}#sk-container-id-1 input.sk-hidden--visually {border: 0;clip: rect(1px 1px 1px 1px);clip: rect(1px, 1px, 1px, 1px);height: 1px;margin: -1px;overflow: hidden;padding: 0;position: absolute;width: 1px;}#sk-container-id-1 div.sk-estimator {font-family: monospace;background-color: #f0f8ff;border: 1px dotted black;border-radius: 0.25em;box-sizing: border-box;margin-bottom: 0.5em;}#sk-container-id-1 div.sk-estimator:hover {background-color: #d4ebff;}#sk-container-id-1 div.sk-parallel-item::after {content: \"\";width: 100%;border-bottom: 1px solid gray;flex-grow: 1;}#sk-container-id-1 div.sk-label:hover label.sk-toggleable__label {background-color: #d4ebff;}#sk-container-id-1 div.sk-serial::before {content: \"\";position: absolute;border-left: 1px solid gray;box-sizing: border-box;top: 0;bottom: 0;left: 50%;z-index: 0;}#sk-container-id-1 div.sk-serial {display: flex;flex-direction: column;align-items: center;background-color: white;padding-right: 0.2em;padding-left: 0.2em;position: relative;}#sk-container-id-1 div.sk-item {position: relative;z-index: 1;}#sk-container-id-1 div.sk-parallel {display: flex;align-items: stretch;justify-content: center;background-color: white;position: relative;}#sk-container-id-1 div.sk-item::before, #sk-container-id-1 div.sk-parallel-item::before {content: \"\";position: absolute;border-left: 1px solid gray;box-sizing: border-box;top: 0;bottom: 0;left: 50%;z-index: -1;}#sk-container-id-1 div.sk-parallel-item {display: flex;flex-direction: column;z-index: 1;position: relative;background-color: white;}#sk-container-id-1 div.sk-parallel-item:first-child::after {align-self: flex-end;width: 50%;}#sk-container-id-1 div.sk-parallel-item:last-child::after {align-self: flex-start;width: 50%;}#sk-container-id-1 div.sk-parallel-item:only-child::after {width: 0;}#sk-container-id-1 div.sk-dashed-wrapped {border: 1px dashed gray;margin: 0 0.4em 0.5em 0.4em;box-sizing: border-box;padding-bottom: 0.4em;background-color: white;}#sk-container-id-1 div.sk-label label {font-family: monospace;font-weight: bold;display: inline-block;line-height: 1.2em;}#sk-container-id-1 div.sk-label-container {text-align: center;}#sk-container-id-1 div.sk-container {/* jupyter's `normalize.less` sets `[hidden] { display: none; }` but bootstrap.min.css set `[hidden] { display: none !important; }` so we also need the `!important` here to be able to override the default hidden behavior on the sphinx rendered scikit-learn.org. See: https://github.com/scikit-learn/scikit-learn/issues/21755 */display: inline-block !important;position: relative;}#sk-container-id-1 div.sk-text-repr-fallback {display: none;}</style><div id=\"sk-container-id-1\" class=\"sk-top-container\"><div class=\"sk-text-repr-fallback\"><pre>GaussianNB()</pre><b>In a Jupyter environment, please rerun this cell to show the HTML representation or trust the notebook. <br />On GitHub, the HTML representation is unable to render, please try loading this page with nbviewer.org.</b></div><div class=\"sk-container\" hidden><div class=\"sk-item\"><div class=\"sk-estimator sk-toggleable\"><input class=\"sk-toggleable__control sk-hidden--visually\" id=\"sk-estimator-id-1\" type=\"checkbox\" checked><label for=\"sk-estimator-id-1\" class=\"sk-toggleable__label sk-toggleable__label-arrow\">GaussianNB</label><div class=\"sk-toggleable__content\"><pre>GaussianNB()</pre></div></div></div></div></div>"
      ],
      "text/plain": [
       "GaussianNB()"
      ]
     },
     "execution_count": 27,
     "metadata": {},
     "output_type": "execute_result"
    }
   ],
   "source": [
    "nb = GaussianNB()\n",
    "nb.fit(X_train, y_train)"
   ]
  },
  {
   "cell_type": "markdown",
   "id": "650139c1-5d6d-49c7-8c87-b973b5b76f88",
   "metadata": {},
   "source": [
    "### Logistic Regression"
   ]
  },
  {
   "cell_type": "code",
   "execution_count": 28,
   "id": "e26c94cd-2d45-4e6c-bbdd-183b7b7f3df4",
   "metadata": {},
   "outputs": [],
   "source": [
    "lr = LogisticRegression()\n",
    "penalty = ['l1', 'l2']\n",
    "param_grid_lr = {'C': [0.001, 0.01, 0.1, 1, 10, 100]}\n",
    "lr_grid = GridSearchCV(lr, param_grid=param_grid_lr, cv=5)\n",
    "lr_grid.fit(X_train, y_train)\n",
    "lr = lr_grid.best_estimator_"
   ]
  },
  {
   "cell_type": "markdown",
   "id": "8bf116f2-da29-4b38-98f1-dc3a13e00801",
   "metadata": {},
   "source": [
    "### SVMd_vm)"
   ]
  },
  {
   "cell_type": "code",
   "execution_count": 29,
   "id": "f472d8cd-e15b-4753-93a3-c9fc2a6bfb98",
   "metadata": {},
   "outputs": [],
   "source": [
    "#svm = SVC()\n",
    "#svm.fit(X_train, y_train)"
   ]
  },
  {
   "cell_type": "markdown",
   "id": "beca22d0-da1d-4e36-8f45-b215d6c2c34e",
   "metadata": {},
   "source": [
    "## Вычислите значения метрик Accuracy, Precision, Recall, F1, ROC AUC score."
   ]
  },
  {
   "cell_type": "code",
   "execution_count": 33,
   "id": "f6b0c99d-3a92-4e81-b301-a1798d95fafa",
   "metadata": {},
   "outputs": [
    {
     "name": "stdout",
     "output_type": "stream",
     "text": [
      "LogisticRegression\n",
      "Accuracy: 0.605\n",
      "Precision: 0.646\n",
      "Recall: 0.456\n",
      "F1-score: 0.535\n",
      "ROC-AUC: 0.604\n",
      "\n",
      "KNeighborsClassifier\n",
      "Accuracy: 0.579\n",
      "Precision: 0.588\n",
      "Recall: 0.517\n",
      "F1-score: 0.550\n",
      "ROC-AUC: 0.579\n",
      "\n",
      "GaussianNB\n",
      "Accuracy: 0.512\n",
      "Precision: 0.609\n",
      "Recall: 0.058\n",
      "F1-score: 0.106\n",
      "ROC-AUC: 0.511\n",
      "\n"
     ]
    }
   ],
   "source": [
    "from sklearn.metrics import accuracy_score, precision_score, recall_score, f1_score, roc_auc_score\n",
    "\n",
    "# Оценка качества моделей\n",
    "models = [lr, best_knn, nb]\n",
    "for model in models:\n",
    "    y_pred = model.predict(X_test)\n",
    "    print(model.__class__.__name__)\n",
    "    print('Accuracy: {:.3f}'.format(accuracy_score(y_test, y_pred)))\n",
    "    print('Precision: {:.3f}'.format(precision_score(y_test, y_pred)))\n",
    "    print('Recall: {:.3f}'.format(recall_score(y_test, y_pred)))\n",
    "    print('F1-score: {:.3f}'.format(f1_score(y_test, y_pred)))\n",
    "    print('ROC-AUC: {:.3f}'.format(roc_auc_score(y_test, y_pred)))\n",
    "    print()"
   ]
  },
  {
   "cell_type": "markdown",
   "id": "2c6f2795-3cde-498a-a896-18115941ca3a",
   "metadata": {},
   "source": [
    "## Построить итоговую модель классификаторов"
   ]
  },
  {
   "cell_type": "code",
   "execution_count": 35,
   "id": "d56e852e-7685-4315-ba02-d973b54eb3b8",
   "metadata": {},
   "outputs": [
    {
     "name": "stdout",
     "output_type": "stream",
     "text": [
      "Accuracy (train) for Logistic Regression: 60.5% \n",
      "              precision    recall  f1-score   support\n",
      "\n",
      "           0       0.58      0.75      0.66     22362\n",
      "           1       0.65      0.46      0.53     22193\n",
      "\n",
      "    accuracy                           0.60     44555\n",
      "   macro avg       0.61      0.60      0.60     44555\n",
      "weighted avg       0.61      0.60      0.60     44555\n",
      "\n",
      "Accuracy (train) for KNN classifier: 57.9% \n",
      "              precision    recall  f1-score   support\n",
      "\n",
      "           0       0.57      0.64      0.60     22362\n",
      "           1       0.59      0.52      0.55     22193\n",
      "\n",
      "    accuracy                           0.58     44555\n",
      "   macro avg       0.58      0.58      0.58     44555\n",
      "weighted avg       0.58      0.58      0.58     44555\n",
      "\n",
      "Accuracy (train) for Naive Bayes: 51.2% \n",
      "              precision    recall  f1-score   support\n",
      "\n",
      "           0       0.51      0.96      0.66     22362\n",
      "           1       0.61      0.06      0.11     22193\n",
      "\n",
      "    accuracy                           0.51     44555\n",
      "   macro avg       0.56      0.51      0.39     44555\n",
      "weighted avg       0.56      0.51      0.39     44555\n",
      "\n"
     ]
    }
   ],
   "source": [
    "from sklearn.metrics import accuracy_score,precision_score,confusion_matrix,classification_report, precision_recall_curve\n",
    "classifiers = {\n",
    "    'Logistic Regression': lr,\n",
    "    'KNN classifier': best_knn,\n",
    "    'Naive Bayes': nb}\n",
    "n_classifiers = len(classifiers)\n",
    "\n",
    "for index, (name, classifier) in enumerate(classifiers.items()):\n",
    "\n",
    "    y_pred = classifier.predict(X_test)\n",
    "    accuracy = accuracy_score(y_test, y_pred)\n",
    "    print(\"Accuracy (train) for %s: %0.1f%% \" % (name, accuracy * 100))\n",
    "    print(classification_report(y_test,y_pred))"
   ]
  },
  {
   "cell_type": "markdown",
   "id": "edebc132-09da-4a20-9a04-fe12252887d4",
   "metadata": {},
   "source": [
    "## Задание 3"
   ]
  },
  {
   "cell_type": "markdown",
   "id": "a89fdf1c-23d2-4dee-bc7a-ad1bfa5d9142",
   "metadata": {},
   "source": [
    "## Самостоятельно реализуйте метрики Accuracy, Precision, Recall, F1"
   ]
  },
  {
   "cell_type": "code",
   "execution_count": 36,
   "id": "b51e4bc5-27fb-4a9b-bac1-ece8443ec8dc",
   "metadata": {},
   "outputs": [],
   "source": [
    "from sklearn.metrics import confusion_matrix\n",
    "\n",
    "def accuracy(y_true, y_pred):\n",
    "    correct = sum(y_t == y_p for y_t, y_p in zip(y_true, y_pred))\n",
    "    return correct / len(y_true)\n",
    "\n",
    "def precision(y_true, y_pred):\n",
    "    cm = confusion_matrix(y_true, y_pred)\n",
    "    return cm[1, 1] / (cm[1, 1] + cm[0, 1])\n",
    "\n",
    "def recall(y_true, y_pred):\n",
    "    cm = confusion_matrix(y_true, y_pred)\n",
    "    return cm[1, 1] / (cm[1, 1] + cm[1, 0])\n",
    "\n",
    "def f1(y_true, y_pred):\n",
    "    p = precision(y_true, y_pred)\n",
    "    r = recall(y_true, y_pred)\n",
    "    return 2 * p * r / (p + r)"
   ]
  },
  {
   "cell_type": "code",
   "execution_count": 41,
   "id": "c8d10845-6893-45a7-8338-b951db11b8d5",
   "metadata": {},
   "outputs": [
    {
     "name": "stdout",
     "output_type": "stream",
     "text": [
      "LogisticRegression\n",
      "Accuracy: 0.605\n",
      "Precision: 0.646\n",
      "Recall: 0.456\n",
      "F1: 0.535\n",
      "KNeighborsClassifier\n",
      "Accuracy: 0.579\n",
      "Precision: 0.588\n",
      "Recall: 0.517\n",
      "F1: 0.550\n",
      "GaussianNB\n",
      "Accuracy: 0.512\n",
      "Precision: 0.609\n",
      "Recall: 0.058\n",
      "F1: 0.106\n"
     ]
    }
   ],
   "source": [
    "for model in models:\n",
    "    y_pred = model.predict(X_test)\n",
    "    print(model.__class__.__name__)\n",
    "    print('Accuracy: {:.3f}'.format(accuracy(y_test, y_pred)))\n",
    "    print('Precision: {:.3f}'.format(precision(y_test, y_pred)))\n",
    "    print('Recall: {:.3f}'.format(recall(y_test, y_pred)))\n",
    "    print('F1: {:.3f}'.format(f1(y_test, y_pred)))"
   ]
  },
  {
   "cell_type": "markdown",
   "id": "588ab241-3c79-4bd6-b393-842ae0cc62fa",
   "metadata": {},
   "source": [
    "## Самостоятельно реализуйте kNN."
   ]
  },
  {
   "cell_type": "code",
   "execution_count": 38,
   "id": "f407b8b4-bfc4-4bca-9e57-e57fb8aad6eb",
   "metadata": {},
   "outputs": [],
   "source": [
    "from collections import Counter\n",
    "from scipy.spatial import distance\n",
    "\n",
    "class CustomKNN(object):\n",
    "    def __init__(self, k=1):\n",
    "        self.k = k\n",
    "\n",
    "    def fit(self, X, y):\n",
    "        self.database_X = X.copy()\n",
    "        self.database_y = y.copy()\n",
    "\n",
    "    def predict(self, X):\n",
    "        predictions = [self._predict(x) for x in X]\n",
    "        return np.array(predictions)\n",
    "\n",
    "    def _predict(self, x):\n",
    "        # считаем расстояний между x и примерами\n",
    "        distances = [distance.euclidean(x, x_train) for x_train in self.database_X]\n",
    "\n",
    "        # получаем индексы соседей\n",
    "        k_indices = np.argsort(distances)[:self.k]\n",
    "        k_nearest_labels = [self.database_y[i] for i in k_indices]\n",
    "\n",
    "        # считаем голоса предсказания\n",
    "        most_common = Counter(k_nearest_labels).most_common(1)\n",
    "        return most_common[0][0]"
   ]
  },
  {
   "cell_type": "markdown",
   "id": "10c20769-6805-4eed-a90f-a9be28dc810f",
   "metadata": {},
   "source": [
    "## Самостоятельно реализуйте SVM с возможностью выбирать ядро."
   ]
  },
  {
   "cell_type": "code",
   "execution_count": 39,
   "id": "6d28e792-a284-415f-98e1-cf05bdd81d37",
   "metadata": {},
   "outputs": [],
   "source": [
    "import numpy as np\n",
    "from cvxopt import matrix, solvers\n",
    "from sklearn.metrics.pairwise import rbf_kernel, polynomial_kernel, linear_kernel\n",
    "\n",
    "class SVM:\n",
    "    def __init__(self, kernel='linear', C=1.0, gamma=1.0, degree=3):\n",
    "        self.kernel = kernel\n",
    "        self.C = C\n",
    "        self.gamma = gamma\n",
    "        self.degree = degree\n",
    "        self.alpha = None\n",
    "        self.support_vectors = None\n",
    "        self.support_labels = None\n",
    "        self.intercept = None\n",
    "\n",
    "    def fit(self, X, y):\n",
    "        n_samples, n_features = X.shape\n",
    "\n",
    "        # считаем матрицу ядра\n",
    "        if self.kernel == 'linear':\n",
    "            K = linear_kernel(X, X)\n",
    "        elif self.kernel == 'polynomial':\n",
    "            K = polynomial_kernel(X, X, degree=self.degree, gamma=self.gamma)\n",
    "        elif self.kernel == 'rbf':\n",
    "            K = rbf_kernel(X, X, gamma=self.gamma)\n",
    "        else:\n",
    "            raise ValueError('Invalid kernel type.')\n",
    "        # выбираем метрики \n",
    "        y = np.where(y <= 0, -1, 1)\n",
    "\n",
    "        # ставим задачу оптимизации\n",
    "        P = matrix(np.outer(y, y) * K)\n",
    "        q = matrix(-np.ones(n_samples))\n",
    "        G = matrix(np.vstack((-np.eye(n_samples), np.eye(n_samples))))\n",
    "        h = matrix(np.concatenate((np.zeros(n_samples), self.C * np.ones(n_samples))))\n",
    "        A = matrix(y.reshape(1, -1))\n",
    "        b = matrix(np.zeros(1))\n",
    "\n",
    "        # считаем квадратичную оптимизацию\n",
    "        solvers.options['show_progress'] = False\n",
    "        solution = solvers.qp(P, q, G, h, A, b)\n",
    "\n",
    "        # считаем множетели лагранжа\n",
    "        self.alpha = np.ravel(solution['x'])\n",
    "\n",
    "        # получаем опорные вектора и их метки\n",
    "        sv_indices = np.where(self.alpha > 1e-5)[0]\n",
    "        self.support_vectors = X[sv_indices]\n",
    "        self.support_labels = y[sv_indices]\n",
    "\n",
    "        # считаем охваты для ядер\n",
    "        if self.kernel == 'linear':\n",
    "            self.intercept = np.mean(self.support_labels - np.dot(self.support_vectors, X.T))\n",
    "        elif self.kernel == 'polynomial':\n",
    "            self.intercept = np.mean(self.support_labels - np.sum((self.alpha * self.support_labels) *\n",
    "                                                                  polynomial_kernel(self.support_vectors,\n",
    "                                                                                    self.support_vectors,\n",
    "                                                                                    degree=self.degree,\n",
    "                                                                                    gamma=self.gamma), axis=0))\n",
    "        elif self.kernel == 'rbf':\n",
    "            self.intercept = np.mean(self.support_labels - np.sum((self.alpha * self.support_labels) *\n",
    "                                                                  rbf_kernel(self.support_vectors,\n",
    "                                                                             self.support_vectors,\n",
    "                                                                             gamma=self.gamma), axis=0))\n",
    "    # предсказываем на основе ядра\n",
    "    def predict(self, X):\n",
    "        if self.kernel == 'linear':\n",
    "            return np.sign(np.dot(X, self.support_vectors.T) + self.intercept)\n",
    "        elif self.kernel == 'polynomial':\n",
    "            kernel_vals = polynomial_kernel(X, self.support_vectors, degree=self.degree, gamma=self.gamma)\n",
    "            return np.sign(np.dot(kernel_vals, (self.alpha * self.support_labels)) + self.intercept)\n",
    "        elif self.kernel == 'rbf':\n",
    "            kernel_vals = rbf_kernel(X, self.support_vectors, gamma=self.gamma)\n",
    "            return np.sign(np.dot(kernel_vals, (self.alpha * self.support_labels)) + self.intercept)"
   ]
  },
  {
   "cell_type": "code",
   "execution_count": 44,
   "id": "c9ca9bb4-2757-477f-ad49-d0611e030572",
   "metadata": {},
   "outputs": [
    {
     "ename": "MemoryError",
     "evalue": "Unable to allocate 80.5 GiB for an array with shape (103959, 103959) and data type float64",
     "output_type": "error",
     "traceback": [
      "\u001b[1;31m---------------------------------------------------------------------------\u001b[0m",
      "\u001b[1;31mMemoryError\u001b[0m                               Traceback (most recent call last)",
      "Cell \u001b[1;32mIn[44], line 2\u001b[0m\n\u001b[0;32m      1\u001b[0m svm \u001b[38;5;241m=\u001b[39m SVM(kernel\u001b[38;5;241m=\u001b[39m\u001b[38;5;124m'\u001b[39m\u001b[38;5;124mlinear\u001b[39m\u001b[38;5;124m'\u001b[39m, gamma\u001b[38;5;241m=\u001b[39m\u001b[38;5;241m0.5\u001b[39m)\n\u001b[1;32m----> 2\u001b[0m \u001b[43msvm\u001b[49m\u001b[38;5;241;43m.\u001b[39;49m\u001b[43mfit\u001b[49m\u001b[43m(\u001b[49m\u001b[43mX_train\u001b[49m\u001b[43m,\u001b[49m\u001b[43m \u001b[49m\u001b[43my_train\u001b[49m\u001b[43m)\u001b[49m\n\u001b[0;32m      4\u001b[0m y_pred \u001b[38;5;241m=\u001b[39m svm\u001b[38;5;241m.\u001b[39mpredict(X_test)\n\u001b[0;32m      6\u001b[0m \u001b[38;5;66;03m# Оценка точности\u001b[39;00m\n",
      "Cell \u001b[1;32mIn[39], line 21\u001b[0m, in \u001b[0;36mSVM.fit\u001b[1;34m(self, X, y)\u001b[0m\n\u001b[0;32m     19\u001b[0m \u001b[38;5;66;03m# считаем матрицу ядра\u001b[39;00m\n\u001b[0;32m     20\u001b[0m \u001b[38;5;28;01mif\u001b[39;00m \u001b[38;5;28mself\u001b[39m\u001b[38;5;241m.\u001b[39mkernel \u001b[38;5;241m==\u001b[39m \u001b[38;5;124m'\u001b[39m\u001b[38;5;124mlinear\u001b[39m\u001b[38;5;124m'\u001b[39m:\n\u001b[1;32m---> 21\u001b[0m     K \u001b[38;5;241m=\u001b[39m \u001b[43mlinear_kernel\u001b[49m\u001b[43m(\u001b[49m\u001b[43mX\u001b[49m\u001b[43m,\u001b[49m\u001b[43m \u001b[49m\u001b[43mX\u001b[49m\u001b[43m)\u001b[49m\n\u001b[0;32m     22\u001b[0m \u001b[38;5;28;01melif\u001b[39;00m \u001b[38;5;28mself\u001b[39m\u001b[38;5;241m.\u001b[39mkernel \u001b[38;5;241m==\u001b[39m \u001b[38;5;124m'\u001b[39m\u001b[38;5;124mpolynomial\u001b[39m\u001b[38;5;124m'\u001b[39m:\n\u001b[0;32m     23\u001b[0m     K \u001b[38;5;241m=\u001b[39m polynomial_kernel(X, X, degree\u001b[38;5;241m=\u001b[39m\u001b[38;5;28mself\u001b[39m\u001b[38;5;241m.\u001b[39mdegree, gamma\u001b[38;5;241m=\u001b[39m\u001b[38;5;28mself\u001b[39m\u001b[38;5;241m.\u001b[39mgamma)\n",
      "File \u001b[1;32m~\\Desktop\\ML\\venv\\Lib\\site-packages\\sklearn\\utils\\_param_validation.py:211\u001b[0m, in \u001b[0;36mvalidate_params.<locals>.decorator.<locals>.wrapper\u001b[1;34m(*args, **kwargs)\u001b[0m\n\u001b[0;32m    205\u001b[0m \u001b[38;5;28;01mtry\u001b[39;00m:\n\u001b[0;32m    206\u001b[0m     \u001b[38;5;28;01mwith\u001b[39;00m config_context(\n\u001b[0;32m    207\u001b[0m         skip_parameter_validation\u001b[38;5;241m=\u001b[39m(\n\u001b[0;32m    208\u001b[0m             prefer_skip_nested_validation \u001b[38;5;129;01mor\u001b[39;00m global_skip_validation\n\u001b[0;32m    209\u001b[0m         )\n\u001b[0;32m    210\u001b[0m     ):\n\u001b[1;32m--> 211\u001b[0m         \u001b[38;5;28;01mreturn\u001b[39;00m \u001b[43mfunc\u001b[49m\u001b[43m(\u001b[49m\u001b[38;5;241;43m*\u001b[39;49m\u001b[43margs\u001b[49m\u001b[43m,\u001b[49m\u001b[43m \u001b[49m\u001b[38;5;241;43m*\u001b[39;49m\u001b[38;5;241;43m*\u001b[39;49m\u001b[43mkwargs\u001b[49m\u001b[43m)\u001b[49m\n\u001b[0;32m    212\u001b[0m \u001b[38;5;28;01mexcept\u001b[39;00m InvalidParameterError \u001b[38;5;28;01mas\u001b[39;00m e:\n\u001b[0;32m    213\u001b[0m     \u001b[38;5;66;03m# When the function is just a wrapper around an estimator, we allow\u001b[39;00m\n\u001b[0;32m    214\u001b[0m     \u001b[38;5;66;03m# the function to delegate validation to the estimator, but we replace\u001b[39;00m\n\u001b[0;32m    215\u001b[0m     \u001b[38;5;66;03m# the name of the estimator by the name of the function in the error\u001b[39;00m\n\u001b[0;32m    216\u001b[0m     \u001b[38;5;66;03m# message to avoid confusion.\u001b[39;00m\n\u001b[0;32m    217\u001b[0m     msg \u001b[38;5;241m=\u001b[39m re\u001b[38;5;241m.\u001b[39msub(\n\u001b[0;32m    218\u001b[0m         \u001b[38;5;124mr\u001b[39m\u001b[38;5;124m\"\u001b[39m\u001b[38;5;124mparameter of \u001b[39m\u001b[38;5;124m\\\u001b[39m\u001b[38;5;124mw+ must be\u001b[39m\u001b[38;5;124m\"\u001b[39m,\n\u001b[0;32m    219\u001b[0m         \u001b[38;5;124mf\u001b[39m\u001b[38;5;124m\"\u001b[39m\u001b[38;5;124mparameter of \u001b[39m\u001b[38;5;132;01m{\u001b[39;00mfunc\u001b[38;5;241m.\u001b[39m\u001b[38;5;18m__qualname__\u001b[39m\u001b[38;5;132;01m}\u001b[39;00m\u001b[38;5;124m must be\u001b[39m\u001b[38;5;124m\"\u001b[39m,\n\u001b[0;32m    220\u001b[0m         \u001b[38;5;28mstr\u001b[39m(e),\n\u001b[0;32m    221\u001b[0m     )\n",
      "File \u001b[1;32m~\\Desktop\\ML\\venv\\Lib\\site-packages\\sklearn\\metrics\\pairwise.py:1329\u001b[0m, in \u001b[0;36mlinear_kernel\u001b[1;34m(X, Y, dense_output)\u001b[0m\n\u001b[0;32m   1304\u001b[0m \u001b[38;5;250m\u001b[39m\u001b[38;5;124;03m\"\"\"\u001b[39;00m\n\u001b[0;32m   1305\u001b[0m \u001b[38;5;124;03mCompute the linear kernel between X and Y.\u001b[39;00m\n\u001b[0;32m   1306\u001b[0m \n\u001b[1;32m   (...)\u001b[0m\n\u001b[0;32m   1326\u001b[0m \u001b[38;5;124;03m    The Gram matrix of the linear kernel, i.e. `X @ Y.T`.\u001b[39;00m\n\u001b[0;32m   1327\u001b[0m \u001b[38;5;124;03m\"\"\"\u001b[39;00m\n\u001b[0;32m   1328\u001b[0m X, Y \u001b[38;5;241m=\u001b[39m check_pairwise_arrays(X, Y)\n\u001b[1;32m-> 1329\u001b[0m \u001b[38;5;28;01mreturn\u001b[39;00m \u001b[43msafe_sparse_dot\u001b[49m\u001b[43m(\u001b[49m\u001b[43mX\u001b[49m\u001b[43m,\u001b[49m\u001b[43m \u001b[49m\u001b[43mY\u001b[49m\u001b[38;5;241;43m.\u001b[39;49m\u001b[43mT\u001b[49m\u001b[43m,\u001b[49m\u001b[43m \u001b[49m\u001b[43mdense_output\u001b[49m\u001b[38;5;241;43m=\u001b[39;49m\u001b[43mdense_output\u001b[49m\u001b[43m)\u001b[49m\n",
      "File \u001b[1;32m~\\Desktop\\ML\\venv\\Lib\\site-packages\\sklearn\\utils\\extmath.py:193\u001b[0m, in \u001b[0;36msafe_sparse_dot\u001b[1;34m(a, b, dense_output)\u001b[0m\n\u001b[0;32m    191\u001b[0m         ret \u001b[38;5;241m=\u001b[39m np\u001b[38;5;241m.\u001b[39mdot(a, b)\n\u001b[0;32m    192\u001b[0m \u001b[38;5;28;01melse\u001b[39;00m:\n\u001b[1;32m--> 193\u001b[0m     ret \u001b[38;5;241m=\u001b[39m \u001b[43ma\u001b[49m\u001b[43m \u001b[49m\u001b[38;5;241;43m@\u001b[39;49m\u001b[43m \u001b[49m\u001b[43mb\u001b[49m\n\u001b[0;32m    195\u001b[0m \u001b[38;5;28;01mif\u001b[39;00m (\n\u001b[0;32m    196\u001b[0m     sparse\u001b[38;5;241m.\u001b[39missparse(a)\n\u001b[0;32m    197\u001b[0m     \u001b[38;5;129;01mand\u001b[39;00m sparse\u001b[38;5;241m.\u001b[39missparse(b)\n\u001b[0;32m    198\u001b[0m     \u001b[38;5;129;01mand\u001b[39;00m dense_output\n\u001b[0;32m    199\u001b[0m     \u001b[38;5;129;01mand\u001b[39;00m \u001b[38;5;28mhasattr\u001b[39m(ret, \u001b[38;5;124m\"\u001b[39m\u001b[38;5;124mtoarray\u001b[39m\u001b[38;5;124m\"\u001b[39m)\n\u001b[0;32m    200\u001b[0m ):\n\u001b[0;32m    201\u001b[0m     \u001b[38;5;28;01mreturn\u001b[39;00m ret\u001b[38;5;241m.\u001b[39mtoarray()\n",
      "\u001b[1;31mMemoryError\u001b[0m: Unable to allocate 80.5 GiB for an array with shape (103959, 103959) and data type float64"
     ]
    }
   ],
   "source": [
    "svm = SVM(kernel='linear', gamma=0.5)\n",
    "svm.fit(X_train, y_train)\n",
    "\n",
    "y_pred = svm.predict(X_test)\n",
    "\n",
    "# Оценка точности\n",
    "accuracy = accuracy_score(y_test, y_pred)\n",
    "print(\"Accuracy:\", accuracy)"
   ]
  },
  {
   "cell_type": "code",
   "execution_count": null,
   "id": "0d0b2b7f-33d8-4270-883d-14122f092a6d",
   "metadata": {},
   "outputs": [],
   "source": []
  }
 ],
 "metadata": {
  "kernelspec": {
   "display_name": "Python 3 (ipykernel)",
   "language": "python",
   "name": "python3"
  },
  "language_info": {
   "codemirror_mode": {
    "name": "ipython",
    "version": 3
   },
   "file_extension": ".py",
   "mimetype": "text/x-python",
   "name": "python",
   "nbconvert_exporter": "python",
   "pygments_lexer": "ipython3",
   "version": "3.11.5"
  }
 },
 "nbformat": 4,
 "nbformat_minor": 5
}
